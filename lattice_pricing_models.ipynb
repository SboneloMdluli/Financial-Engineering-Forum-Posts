{
  "cells": [
    {
      "cell_type": "markdown",
      "metadata": {},
      "source": [
        "We can price options in discrete time through numerical approaches using lattice models. The first model we consider is the Cox-Ross-Rubinstein Model which is a risk neutral under martingale measure $\\mathbb{Q}$"
      ]
    },
    {
      "cell_type": "code",
      "execution_count": 4,
      "metadata": {
        "id": "ywk6Mm9aRqwn"
      },
      "outputs": [],
      "source": [
        "import numpy as np\n",
        "from timeit import default_timer as timer\n",
        "import matplotlib.pyplot as plt"
      ]
    },
    {
      "cell_type": "markdown",
      "metadata": {
        "id": "e9p5tx-Wqut3"
      },
      "source": [
        "## Binomial Tree"
      ]
    },
    {
      "cell_type": "code",
      "execution_count": null,
      "metadata": {
        "id": "2tX-HhPWAtCO"
      },
      "outputs": [],
      "source": [
        "from enum import Enum\n",
        "\n",
        "class OptionType(Enum):\n",
        "    call, put = range(0,2)"
      ]
    },
    {
      "cell_type": "markdown",
      "metadata": {
        "id": "wIf4DJYpmCRq"
      },
      "source": [
        "European Binomial Tree"
      ]
    },
    {
      "cell_type": "code",
      "execution_count": 5,
      "metadata": {
        "id": "aSAWDua1DBX7"
      },
      "outputs": [],
      "source": [
        "from dataclasses import dataclass\n",
        "\n",
        "@dataclass\n",
        "class Option:\n",
        "    s_ini: float\n",
        "    strike_price: float\n",
        "    maturity: float\n",
        "    risk_free_rate: float\n",
        "    sigma: float\n",
        "    steps: int\n",
        "    option_type: OptionType"
      ]
    },
    {
      "cell_type": "code",
      "execution_count": null,
      "metadata": {
        "id": "XQXvoRApG5eE"
      },
      "outputs": [],
      "source": [
        "class BinomialTree:\n",
        "    def __init__(self, option: Option):\n",
        "        self.option = option\n",
        "        self.dt = option.maturity / option.steps\n",
        "        self.u = np.exp(option.sigma * np.sqrt(self.dt))\n",
        "        self.d = np.exp(-option.sigma * np.sqrt(self.dt))\n",
        "        self.p = (np.exp(option.risk_free_rate * self.dt) - self.d) / (self.u - self.d)\n",
        "        self.price_matrix = np.zeros([option.steps + 1, option.steps + 1])\n",
        "        self.underlying_matrix = np.zeros([option.steps + 1, option.steps + 1])\n",
        "        self.delta_matrix = np.zeros([option.steps, option.steps])\n",
        "\n",
        "    def payoff(self, stock_vec):\n",
        "        if self.option.option_type == OptionType.call:\n",
        "            return np.maximum(stock_vec - self.option.strike_price, 0)\n",
        "        else:\n",
        "            return np.maximum(self.option.strike_price - stock_vec, 0)\n",
        "\n",
        "    def price(self):\n",
        "\n",
        "        N = self.option.steps\n",
        "        for i in range(0, N + 1):\n",
        "\n",
        "            # price on tree edges\n",
        "            self.underlying_matrix[N, i] = (\n",
        "                self.option.s_ini * (self.u ** (i)) * (self.d ** (N - i))\n",
        "            )\n",
        "\n",
        "            self.price_matrix[N, i] = self.payoff(self.underlying_matrix[N, i])\n",
        "\n",
        "        for j in range(N - 1, -1, -1):\n",
        "            for i in range(0, j + 1):\n",
        "                self.price_matrix[j, i] = np.exp(\n",
        "                    -self.option.risk_free_rate * self.dt\n",
        "                ) * (\n",
        "                    self.p * self.price_matrix[j + 1, i + 1]\n",
        "                    + (1 - self.p) * self.price_matrix[j + 1, i]\n",
        "                )\n",
        "                self.underlying_matrix[j, i] = (\n",
        "                    self.option.s_ini * (self.u ** (i)) * (self.d ** (j - i))\n",
        "                )\n",
        "                self.delta_matrix[j, i] = (\n",
        "                    self.price_matrix[j + 1, i + 1] - self.price_matrix[j + 1, i]\n",
        "                ) / (\n",
        "                    self.underlying_matrix[j + 1, i + 1]\n",
        "                    - self.underlying_matrix[j + 1, i]\n",
        "                )\n",
        "\n",
        "        return {\n",
        "            \"price\": self.price_matrix[0, 0],\n",
        "            \"price_evolution\" : self.price_matrix,\n",
        "            \"underlying\": self.underlying_matrix,\n",
        "            \"delta\": self.delta_matrix,\n",
        "        }"
      ]
    },
    {
      "cell_type": "code",
      "execution_count": 19,
      "metadata": {
        "id": "mgm0o3JK8HpL"
      },
      "outputs": [],
      "source": [
        "# Option parameters (ATM option)\n",
        "S_in = 100\n",
        "K  = 100\n",
        "T = 3/12\n",
        "r = 0.05\n",
        "sigma = 0.2\n",
        "N = 200"
      ]
    },
    {
      "cell_type": "code",
      "execution_count": 9,
      "metadata": {
        "colab": {
          "base_uri": "https://localhost:8080/"
        },
        "id": "Hv0U2Ts1Wrun",
        "outputId": "3b8eaf9d-ff6d-4250-bc61-6525a885e431"
      },
      "outputs": [
        {
          "name": "stdout",
          "output_type": "stream",
          "text": [
            "call price: 4.61\n"
          ]
        }
      ],
      "source": [
        "call_option = Option(S_in, K, T,r, sigma, N, OptionType.call)\n",
        "binomial_tree = BinomialTree(call_option)\n",
        "call_price = binomial_tree.price()[\"price\"]\n",
        "print(\"call price: {:.2f}\".format(call_price))"
      ]
    },
    {
      "cell_type": "code",
      "execution_count": 10,
      "metadata": {
        "colab": {
          "base_uri": "https://localhost:8080/"
        },
        "id": "Tn_IIlAf7OUv",
        "outputId": "c349ba6d-d893-4449-bedf-3e8d5dc3e762"
      },
      "outputs": [
        {
          "name": "stdout",
          "output_type": "stream",
          "text": [
            "put price: 3.37\n"
          ]
        }
      ],
      "source": [
        "put_option = Option(S_in, K, T,r, sigma, N, OptionType.put)\n",
        "binomial_tree = BinomialTree(put_option)\n",
        "put_price = binomial_tree.price()[\"price\"]\n",
        "print(\"put price: {:.2f}\".format(put_price))"
      ]
    },
    {
      "cell_type": "markdown",
      "metadata": {
        "id": "3rZEyPkm72DX"
      },
      "source": [
        "check with put call parity"
      ]
    },
    {
      "cell_type": "code",
      "execution_count": 11,
      "metadata": {
        "id": "dtHgjmyJ74o9"
      },
      "outputs": [],
      "source": [
        "assert np.round(call_price + K*np.exp(-r*T)) == np.round(S_in + put_price)"
      ]
    },
    {
      "cell_type": "code",
      "execution_count": 13,
      "metadata": {
        "id": "AgTJhi7mRuiM"
      },
      "outputs": [],
      "source": [
        "price_array = []\n",
        "\n",
        "for n in [1, 10, 100, 200, 300, 400, 500, 600, 700, 800, 900, 1000, 1500, 2000, 2500]:\n",
        "    call_option = Option(S_in, K, T,r, sigma, n, OptionType.call)\n",
        "    res = BinomialTree(call_option).price()\n",
        "    call_price = res[\"price\"]\n",
        "    price_array.append(call_price)\n"
      ]
    },
    {
      "cell_type": "code",
      "execution_count": 14,
      "metadata": {
        "id": "FKf-Qd8eR9I4"
      },
      "outputs": [],
      "source": [
        "time_array = []\n",
        "for n in [1, 10, 100, 200, 300, 400, 500, 600, 700, 800, 900, 1000, 1500, 2000, 2500]:\n",
        "    start = timer()\n",
        "    call_option = Option(S_in, K, T,r, sigma, n, OptionType.call)\n",
        "    res = BinomialTree(call_option).price()\n",
        "    end = timer()\n",
        "    time_array.append(end-start)"
      ]
    },
    {
      "cell_type": "code",
      "execution_count": 18,
      "metadata": {
        "colab": {
          "base_uri": "https://localhost:8080/",
          "height": 486
        },
        "id": "K9Io3U5mZLI1",
        "outputId": "c91d667d-1b58-4f6a-ba2a-6a7e5b2076a6"
      },
      "outputs": [
        {
          "data": {
            "image/png": "[encoded data removed]",
            "text/plain": [
              "<Figure size 640x480 with 2 Axes>"
            ]
          },
          "metadata": {},
          "output_type": "display_data"
        }
      ],
      "source": [
        "N_list = [1, 10, 100, 200, 300, 400, 500, 600, 700, 800, 900, 1000, 1500, 2000, 2500]\n",
        "fig, (ax1, ax2) = plt.subplots(2)\n",
        "ax1.plot(N_list, np.array(price_array))\n",
        "ax1.set_title(\"Price convergence\")\n",
        "ax2.plot(N_list ,np.array(time_array))\n",
        "ax2.set_title(\"Execution time\")\n",
        "ax1.grid(True)\n",
        "ax2.grid(True)\n",
        "ax1.set_xlabel(\"Number of steps (N)\")\n",
        "ax1.set_ylabel(\"Option Price\")\n",
        "ax2.set_xlabel(\"Number of steps (N)\")\n",
        "ax2.set_ylabel(\"Execution time in seconds\")\n",
        "fig.tight_layout()"
      ]
    },
    {
      "cell_type": "markdown",
      "metadata": {
        "id": "FEhjgaXOdv0Y"
      },
      "source": [
        "Comparing call and put deltas"
      ]
    },
    {
      "cell_type": "code",
      "execution_count": 26,
      "metadata": {
        "id": "lYc7TCNbhWqW"
      },
      "outputs": [],
      "source": [
        "call_option = Option(S_in, K, T,r, sigma, N, OptionType.call)\n",
        "put_option = Option(S_in, K, T,r, sigma, N, OptionType.put)\n",
        "\n",
        "res_call = BinomialTree(call_option).price()\n",
        "res_put = BinomialTree(put_option).price()"
      ]
    },
    {
      "cell_type": "code",
      "execution_count": 30,
      "metadata": {
        "colab": {
          "base_uri": "https://localhost:8080/"
        },
        "id": "1hG1Qgg4q4Za",
        "outputId": "5ed8aa7e-8caa-41eb-eba2-3cfb156aa738"
      },
      "outputs": [
        {
          "data": {
            "text/plain": [
              "3.3677884910432403"
            ]
          },
          "execution_count": 30,
          "metadata": {},
          "output_type": "execute_result"
        }
      ],
      "source": [
        "res_put[\"price\"]"
      ]
    },
    {
      "cell_type": "code",
      "execution_count": 27,
      "metadata": {
        "colab": {
          "base_uri": "https://localhost:8080/"
        },
        "id": "qe8_qKBkiCIo",
        "outputId": "d8d45843-1b2f-4f2c-984e-0bad0fcabaae"
      },
      "outputs": [
        {
          "name": "stdout",
          "output_type": "stream",
          "text": [
            "call delta: 0.57\n"
          ]
        }
      ],
      "source": [
        "call_delta = res_call[\"delta\"][0][0]\n",
        "print(\"call delta: {:.2f}\".format(call_delta))"
      ]
    },
    {
      "cell_type": "code",
      "execution_count": 28,
      "metadata": {
        "colab": {
          "base_uri": "https://localhost:8080/"
        },
        "id": "o57zjMALiI3J",
        "outputId": "048a800c-8b57-40f3-a370-eb7553aed702"
      },
      "outputs": [
        {
          "name": "stdout",
          "output_type": "stream",
          "text": [
            "put delta: -0.43\n"
          ]
        }
      ],
      "source": [
        "put_delta = res_put[\"delta\"][0][0]\n",
        "print(\"put delta: {:.2f}\".format(put_delta))"
      ]
    },
    {
      "cell_type": "markdown",
      "metadata": {
        "id": "mdpyXheUmS3L"
      },
      "source": [
        "Verify deltas"
      ]
    },
    {
      "cell_type": "code",
      "execution_count": 23,
      "metadata": {
        "id": "ZAsazaXxmP6p"
      },
      "outputs": [],
      "source": [
        "assert np.round(call_delta - put_delta) == np.round(1)"
      ]
    },
    {
      "cell_type": "markdown",
      "metadata": {
        "id": "bSdDOZBUwCau"
      },
      "source": [
        "Computing vega"
      ]
    },
    {
      "cell_type": "code",
      "execution_count": 40,
      "metadata": {
        "id": "3F-tULvswEnn"
      },
      "outputs": [],
      "source": [
        "sigma_25 = 0.25\n",
        "call_option_sigma_25 = Option(S_in, K, T,r, sigma_25, N, OptionType.call)\n",
        "put_option_sigma_25 = Option(S_in, K, T,r, sigma_25, N, OptionType.put)\n",
        "\n",
        "sigma20_call_price = BinomialTree(call_option).price()[\"price\"]\n",
        "sigma20_put_price = BinomialTree(put_option).price()[\"price\"]\n",
        "\n",
        "sigma25_call_price = BinomialTree(call_option_sigma_25).price()[\"price\"]\n",
        "sigma25_put_price = BinomialTree(put_option_sigma_25).price()[\"price\"]\n"
      ]
    },
    {
      "cell_type": "code",
      "execution_count": 41,
      "metadata": {
        "colab": {
          "base_uri": "https://localhost:8080/"
        },
        "id": "WLmiWjyJrFw1",
        "outputId": "a2b1441f-dec2-4e03-bff8-a4664ca81e60"
      },
      "outputs": [
        {
          "data": {
            "text/plain": [
              "5.592182913856925"
            ]
          },
          "execution_count": 41,
          "metadata": {},
          "output_type": "execute_result"
        }
      ],
      "source": [
        "sigma25_call_price"
      ]
    },
    {
      "cell_type": "code",
      "execution_count": 42,
      "metadata": {
        "colab": {
          "base_uri": "https://localhost:8080/"
        },
        "id": "Sitz3B_swZP9",
        "outputId": "c7edd7e4-3185-4a94-b1be-b1908e403557"
      },
      "outputs": [
        {
          "name": "stdout",
          "output_type": "stream",
          "text": [
            "call vega: 19.64\n",
            "put vega: 19.64\n"
          ]
        }
      ],
      "source": [
        "#vega\n",
        "\n",
        "call_vega = (sigma25_call_price-sigma20_call_price)/0.05\n",
        "put_vega = (sigma25_put_price-sigma20_put_price)/0.05\n",
        "\n",
        "print(\"call vega: {:.2f}\".format(call_vega))\n",
        "print(\"put vega: {:.2f}\".format(put_vega))\n"
      ]
    },
    {
      "cell_type": "markdown",
      "metadata": {
        "id": "2xCo5-wOjXkN"
      },
      "source": [
        "American Binomial Tree"
      ]
    },
    {
      "cell_type": "code",
      "execution_count": 7,
      "metadata": {
        "id": "uY2-oOmWjVz2"
      },
      "outputs": [],
      "source": [
        "class AmericanBinomialTree(BinomialTree):\n",
        "    def __init__(self, option: Option):\n",
        "        super().__init__(option)\n",
        "\n",
        "    def get_max_payoff(self, discounted_payofff, s_t):\n",
        "        if self.option.option_type == OptionType.call:\n",
        "            return max(s_t - self.option.strike_price, discounted_payofff)\n",
        "        else:\n",
        "            return max(self.option.strike_price - s_t, discounted_payofff)\n",
        "\n",
        "    def price(self):\n",
        "        N = self.option.steps\n",
        "        for i in range(0, N + 1):\n",
        "\n",
        "            # price on tree edges\n",
        "            self.underlying_matrix[N, i] = (\n",
        "                self.option.s_ini * (self.u ** (i)) * (self.d ** (N - i))\n",
        "            )\n",
        "\n",
        "            # call\n",
        "            if self.option.option_type == OptionType.call:\n",
        "                self.price_matrix[N, i] = max(\n",
        "                    self.underlying_matrix[N, i] - self.option.strike_price, 0\n",
        "                )\n",
        "            # put\n",
        "            else:\n",
        "                self.price_matrix[N, i] = max(\n",
        "                    self.option.strike_price - self.underlying_matrix[N, i], 0\n",
        "                )\n",
        "\n",
        "        for j in range(N - 1, -1, -1):\n",
        "            for i in range(0, j + 1):\n",
        "                #discounted payoff\n",
        "                self.price_matrix[j, i] = np.exp(\n",
        "                    -self.option.risk_free_rate * self.dt\n",
        "                ) * (\n",
        "                    self.p * self.price_matrix[j + 1, i + 1]\n",
        "                    + (1 - self.p) * self.price_matrix[j + 1, i]\n",
        "                )\n",
        "                self.underlying_matrix[j, i] = (\n",
        "                    self.option.s_ini * (self.u ** (i)) * (self.d ** (j - i))\n",
        "                )\n",
        "\n",
        "                #compare leaving payoff and payff at exercise\n",
        "                self.price_matrix[j, i] = self.get_max_payoff(\n",
        "                    self.price_matrix[j, i], self.underlying_matrix[j, i]\n",
        "                )\n",
        "\n",
        "                self.delta_matrix[j, i] = (\n",
        "                    self.price_matrix[j + 1, i + 1] - self.price_matrix[j + 1, i]\n",
        "                ) / (\n",
        "                    self.underlying_matrix[j + 1, i + 1]\n",
        "                    - self.underlying_matrix[j + 1, i]\n",
        "                )\n",
        "\n",
        "        return {\n",
        "            \"price\": self.price_matrix[0, 0],\n",
        "            \"price_evolution\" : self.price_matrix,\n",
        "            \"underlying\": self.underlying_matrix,\n",
        "            \"delta\": self.delta_matrix,\n",
        "        }"
      ]
    },
    {
      "cell_type": "markdown",
      "metadata": {
        "id": "lxqSENwzncwM"
      },
      "source": [
        "Example"
      ]
    },
    {
      "cell_type": "code",
      "execution_count": null,
      "metadata": {
        "colab": {
          "base_uri": "https://localhost:8080/"
        },
        "id": "-FEiL91QmlxK",
        "outputId": "f3040766-df6b-4c29-895f-c23d414cb361"
      },
      "outputs": [
        {
          "name": "stdout",
          "output_type": "stream",
          "text": [
            "american call price: 8.426654929491738\n"
          ]
        }
      ],
      "source": [
        "american_call = Option(100, 67, 10, 0.04, 0.3, 10, OptionType.put)\n",
        "american_tree = AmericanBinomialTree(american_call)\n",
        "\n",
        "print(\"american call price: {}\".format(american_tree.price()[\"price\"]))"
      ]
    },
    {
      "cell_type": "markdown",
      "metadata": {
        "id": "BkO8PynOqp0p"
      },
      "source": [
        "## Trinomial Tree"
      ]
    },
    {
      "cell_type": "markdown",
      "metadata": {
        "id": "mKf0MAQXmIf7"
      },
      "source": [
        "Trinomial Tree"
      ]
    },
    {
      "cell_type": "code",
      "execution_count": 108,
      "metadata": {
        "id": "w_GpPzpt9wEm"
      },
      "outputs": [],
      "source": [
        "class TrinomialModel:\n",
        "    def __init__(self, option: Option):\n",
        "        self.option = option\n",
        "        self.s0 = self.option.s_ini\n",
        "        self.r = self.option.risk_free_rate\n",
        "        self.sigma = self.option.sigma\n",
        "        self.T = self.option.maturity\n",
        "        self.dt = self.option.maturity / self.option.steps\n",
        "\n",
        "        self.price_matrix = []\n",
        "        self.underlying_matrix = []\n",
        "\n",
        "    def compute_probs(self):\n",
        "        self.pu = (\n",
        "            (np.exp(self.r * self.dt / 2) - np.exp(-self.sigma * np.sqrt(self.dt / 2)))\n",
        "            / (\n",
        "                np.exp(self.sigma * np.sqrt(self.dt / 2))\n",
        "                - np.exp(-self.sigma * np.sqrt(self.dt / 2))\n",
        "            )\n",
        "        ) ** 2\n",
        "        self.pd = (\n",
        "            (-np.exp(self.r * self.dt / 2) + np.exp(self.sigma * np.sqrt(self.dt / 2)))\n",
        "            / (\n",
        "                np.exp(self.sigma * np.sqrt(self.dt / 2))\n",
        "                - np.exp(-self.sigma * np.sqrt(self.dt / 2))\n",
        "            )\n",
        "        ) ** 2\n",
        "        self.pm = 1 - self.pu - self.pd\n",
        "\n",
        "        assert 0 <= self.pu <= 1.0, \"p_u should lie in [0, 1] given %s\" % self.pu\n",
        "        assert 0 <= self.pd <= 1.0, \"p_d should lie in [0, 1] given %s\" % self.pd\n",
        "        assert 0 <= self.pm <= 1.0, \"p_m should lie in [0, 1] given %s\" % self.pm\n",
        "\n",
        "    def check_up_value(self, up):\n",
        "        if up is None:\n",
        "            up = np.exp(self.sigma * np.sqrt(2 * self.dt))\n",
        "\n",
        "        assert up > 0.0, \"up should be non negative\"\n",
        "\n",
        "        down = 1 / up\n",
        "\n",
        "        assert down < up, \"up <= 1. / up = down\"\n",
        "\n",
        "        self.up = up\n",
        "        self.down = down\n",
        "\n",
        "    def gen_stock_vec(self, nb):\n",
        "        vec_u = self.up * np.ones(nb)\n",
        "        np.cumprod(vec_u, out=vec_u)\n",
        "\n",
        "        vec_d = self.down * np.ones(nb)\n",
        "        np.cumprod(vec_d, out=vec_d)\n",
        "\n",
        "        res = np.concatenate((vec_d[::-1], [1.0], vec_u))\n",
        "        res *= self.s0\n",
        "\n",
        "        return res\n",
        "\n",
        "    def payoff(self, stock_vec):\n",
        "        if self.option.option_type == OptionType.call:\n",
        "            return np.maximum(stock_vec - self.option.strike_price, 0)\n",
        "        else:\n",
        "            return np.maximum(self.option.strike_price - stock_vec, 0)\n",
        "\n",
        "    # Sixth, compute current prices!\n",
        "    def compute_current_price(self, crt_vec_stock, nxt_vec_prices):\n",
        "        expectation = np.zeros(crt_vec_stock.size)\n",
        "        for i in range(expectation.size):\n",
        "            tmp = nxt_vec_prices[i] * self.pd\n",
        "            tmp += nxt_vec_prices[i + 1] * self.pm\n",
        "            tmp += nxt_vec_prices[i + 2] * self.pu\n",
        "\n",
        "            expectation[i] = tmp\n",
        "\n",
        "        return self.discount * expectation\n",
        "\n",
        "    # Seventh, Option pricing!\n",
        "    def price(self, up=None):\n",
        "        assert self.option.steps > 0, \"no steps shoud be > 0\"\n",
        "\n",
        "        self.option.steps = int(self.option.steps)\n",
        "\n",
        "        self.check_up_value(up)\n",
        "        self.compute_probs()\n",
        "\n",
        "        self.discount = np.exp(-self.r * self.dt)\n",
        "\n",
        "        final_vec_stock = self.gen_stock_vec(self.option.steps)\n",
        "        final_payoff = self.payoff(final_vec_stock)\n",
        "\n",
        "        self.underlying_matrix.append(final_vec_stock)\n",
        "        self.price_matrix.append(final_payoff)\n",
        "\n",
        "        nxt_vec_prices = final_payoff\n",
        "\n",
        "        for i in range(1, self.option.steps + 1):\n",
        "            vec_stock = self.gen_stock_vec(self.option.steps - i)\n",
        "            nxt_vec_prices = self.compute_current_price(vec_stock, nxt_vec_prices)\n",
        "\n",
        "            self.underlying_matrix.append(vec_stock)\n",
        "            self.price_matrix.append(nxt_vec_prices)\n",
        "\n",
        "        self.price_matrix = self.price_matrix[::-1]\n",
        "        self.underlying_matrix = self.underlying_matrix[::-1]\n",
        "        return {\n",
        "            \"price\": self.price_matrix[0][0],\n",
        "            \"price_evolution\": self.price_matrix,\n",
        "            \"underlying\": self.underlying_matrix,\n",
        "        }"
      ]
    },
    {
      "cell_type": "markdown",
      "metadata": {
        "id": "Qy9Y_Gm7pIOv"
      },
      "source": [
        "Example"
      ]
    },
    {
      "cell_type": "code",
      "execution_count": 66,
      "metadata": {
        "colab": {
          "base_uri": "https://localhost:8080/"
        },
        "id": "uIxsdoZLNAGf",
        "outputId": "0c1732c4-c4cf-46c1-9433-85512231324e"
      },
      "outputs": [
        {
          "name": "stdout",
          "output_type": "stream",
          "text": [
            "call price: 17.50\n"
          ]
        }
      ],
      "source": [
        "tr_call_option = Option(100, 90, 1,0, 0.3, 2, OptionType.call)\n",
        "tr_binomial_tree = TrinomialModel(tr_call_option)\n",
        "tr_call_price = tr_binomial_tree.price()[\"price\"]\n",
        "print(\"call price: {:.2f}\".format(tr_call_price))"
      ]
    },
    {
      "cell_type": "code",
      "execution_count": 110,
      "metadata": {
        "id": "M1OltCk3TRP4"
      },
      "outputs": [],
      "source": [
        "class AmericanTrinomialModel(TrinomialModel):\n",
        "    def __init__(self, option: Option):\n",
        "        super().__init__(option)\n",
        "\n",
        "    def get_max_payoff(self, discounted_payofff, s_t):\n",
        "        return np.maximum(self.option.strike_price - s_t, discounted_payofff)\n",
        "\n",
        "    def price(self, up=None):\n",
        "        assert self.option.steps > 0, \"no steps shoud be > 0\"\n",
        "\n",
        "        self.option.steps = int(self.option.steps)\n",
        "        self.check_up_value(up)\n",
        "        self.compute_probs()\n",
        "\n",
        "        self.discount = np.exp(-self.r * self.dt)\n",
        "\n",
        "        final_vec_stock = self.gen_stock_vec(self.option.steps)\n",
        "        final_payoff = self.payoff(final_vec_stock)\n",
        "\n",
        "        self.underlying_matrix.append(final_vec_stock)\n",
        "        self.price_matrix.append(final_payoff)\n",
        "\n",
        "        nxt_vec_prices = final_payoff\n",
        "\n",
        "        for i in range(1, self.option.steps + 1):\n",
        "            vec_stock = self.gen_stock_vec(self.option.steps - i)\n",
        "\n",
        "            # Discounted payoff\n",
        "            nxt_vec_prices = self.compute_current_price(vec_stock, nxt_vec_prices)\n",
        "\n",
        "            # American early exercise option vs leaving money\n",
        "            node_i_payoff = self.payoff(vec_stock)\n",
        "\n",
        "            self.underlying_matrix.append(vec_stock)\n",
        "            self.price_matrix.append(nxt_vec_prices)\n",
        "            nxt_vec_prices = np.maximum(nxt_vec_prices, node_i_payoff)\n",
        "\n",
        "        self.price_matrix = self.price_matrix[::-1]\n",
        "        self.underlying_matrix = self.underlying_matrix[::-1]\n",
        "        return {\n",
        "            \"price\": self.price_matrix[0][0],\n",
        "            \"price_evolution\": self.price_matrix,\n",
        "            \"underlying\": self.underlying_matrix,\n",
        "        }"
      ]
    },
    {
      "cell_type": "markdown",
      "metadata": {
        "id": "vG-v3A6fte7E"
      },
      "source": [
        "Example"
      ]
    },
    {
      "cell_type": "code",
      "execution_count": 117,
      "metadata": {
        "colab": {
          "base_uri": "https://localhost:8080/"
        },
        "id": "QSGq5wk5td_2",
        "outputId": "0b968fad-88b8-4a6c-96eb-a03a8ce5f623"
      },
      "outputs": [
        {
          "name": "stdout",
          "output_type": "stream",
          "text": [
            "call price: 1.43\n"
          ]
        }
      ],
      "source": [
        "tr_call_option = Option(100, 90, 1, 0.3, 0.3, 2, OptionType.put)\n",
        "trinomial_tree = AmericanTrinomialModel(tr_call_option)\n",
        "tr_call_price = trinomial_tree.price()[\"price\"]\n",
        "print(\"call price: {:.2f}\".format(tr_call_price))"
      ]
    },
    {
      "cell_type": "markdown",
      "metadata": {
        "id": "eWffxTnRqPYw"
      },
      "source": [
        "### Question 17 - 18"
      ]
    },
    {
      "cell_type": "code",
      "execution_count": 150,
      "metadata": {
        "colab": {
          "base_uri": "https://localhost:8080/"
        },
        "id": "XIkpkp3FqN9O",
        "outputId": "3d92537e-4f10-45bb-caa3-cd2f6f0f2053"
      },
      "outputs": [
        {
          "data": {
            "text/plain": [
              "array([11.67,  7.71,  4.61,  2.48,  1.19])"
            ]
          },
          "execution_count": 150,
          "metadata": {},
          "output_type": "execute_result"
        }
      ],
      "source": [
        "#call\n",
        "S = 100\n",
        "N = 200\n",
        "moneyness = np.array([90,95,100,105,110])\n",
        "K = (moneyness)*(100/S)\n",
        "american_call_prices_tr = []\n",
        "for k in K:\n",
        "   american_call_tr = AmericanTrinomialModel(Option(S, k, 3/12,0.05, 0.2, N, OptionType.call))\n",
        "   call_price = american_call_tr.price()[\"price\"]\n",
        "   american_call_prices_tr.append(call_price)\n",
        "\n",
        "np.round(american_call_prices_tr,2)"
      ]
    },
    {
      "cell_type": "code",
      "execution_count": 151,
      "metadata": {
        "colab": {
          "base_uri": "https://localhost:8080/"
        },
        "id": "kolRVXmJsdbs",
        "outputId": "90eff2d7-e29b-46aa-c822-fcae9f4aa64e"
      },
      "outputs": [
        {
          "data": {
            "text/plain": [
              "array([ 0.56,  1.57,  3.48,  6.42, 10.33])"
            ]
          },
          "execution_count": 151,
          "metadata": {},
          "output_type": "execute_result"
        }
      ],
      "source": [
        "#put\n",
        "american_put_prices_tr = []\n",
        "for k in K:\n",
        "   american_put_tr = AmericanTrinomialModel(Option(S, k, 3/12,0.05, 0.2, N, OptionType.put))\n",
        "   put_price = american_put_tr.price()[\"price\"]\n",
        "   american_put_prices_tr.append(put_price)\n",
        "\n",
        "np.round(american_put_prices_tr,2)"
      ]
    },
    {
      "cell_type": "code",
      "execution_count": 149,
      "metadata": {
        "colab": {
          "base_uri": "https://localhost:8080/",
          "height": 564
        },
        "id": "cnb_dIfyz8Ne",
        "outputId": "79b5901a-ab8f-4bfc-dcd7-acca5a2360a2"
      },
      "outputs": [
        {
          "data": {
            "image/png": "[encoded data removed]",
            "text/plain": [
              "<Figure size 1000x600 with 1 Axes>"
            ]
          },
          "metadata": {},
          "output_type": "display_data"
        }
      ],
      "source": [
        "plt.figure(figsize=(10, 6))  # Adjust figure size for better visibility\n",
        "plt.plot(moneyness, american_call_prices_tr, label=\"American Call Prices (Trinomial)\")\n",
        "plt.plot(moneyness, american_put_prices_tr, label=\"American Put Prices (Trinomial)\")\n",
        "plt.xlabel(\"Moneyness (K/S)%\")\n",
        "plt.ylabel(\"Option Prices (Trinomial)\")\n",
        "plt.title(\"Moneyness vs. American Call/Put Prices (Trinomial)\")\n",
        "plt.grid(True)\n",
        "plt.legend()  # Add a legend to distinguish the lines\n",
        "plt.show()\n"
      ]
    },
    {
      "cell_type": "markdown",
      "metadata": {
        "id": "ARt_sVViKs5N"
      },
      "source": [
        "# Step 3"
      ]
    },
    {
      "cell_type": "code",
      "execution_count": 154,
      "metadata": {
        "colab": {
          "base_uri": "https://localhost:8080/"
        },
        "id": "TywwFavTKz9i",
        "outputId": "fe2c4ebc-83fe-444a-c71f-e6dba62f4afd"
      },
      "outputs": [
        {
          "name": "stdout",
          "output_type": "stream",
          "text": [
            "call price: 13.63\n"
          ]
        }
      ],
      "source": [
        "# S0=180, r =2%, sigma=25%, T=6months, K = 182:\n",
        "S_in = 180\n",
        "K = 182\n",
        "r = 0.02\n",
        "sigma = 0.25\n",
        "T = 6/12\n",
        "N = 3\n",
        "\n",
        "call_option = Option(S_in, K, T,r, sigma, N, OptionType.call)\n",
        "binomial_tree = BinomialTree(call_option)\n",
        "binomial_tr_call= binomial_tree.price()\n",
        "print(\"call price: {:.2f}\".format(binomial_tr_call[\"price\"]))"
      ]
    },
    {
      "cell_type": "code",
      "execution_count": 157,
      "metadata": {
        "colab": {
          "base_uri": "https://localhost:8080/"
        },
        "id": "ddwqc7PPM8OF",
        "outputId": "2c90eb8d-1406-409c-e56c-51b8dd3e05b7"
      },
      "outputs": [
        {
          "name": "stdout",
          "output_type": "stream",
          "text": [
            "[[0.52744585 0.         0.        ]\n",
            " [0.25525646 0.75766608 0.        ]\n",
            " [0.         0.47115467 1.        ]]\n"
          ]
        }
      ],
      "source": [
        "binomial_tr_call= binomial_tree.price()\n",
        "print(binomial_tr_call[\"delta\"])"
      ]
    },
    {
      "cell_type": "markdown",
      "metadata": {},
      "source": [
        "## Asian Binomial Tree"
      ]
    },
    {
      "cell_type": "code",
      "execution_count": null,
      "metadata": {},
      "outputs": [],
      "source": [
        "class AsianBinomialTree(BinomialTree):\n",
        "    def __init__(self, option: Option):\n",
        "        super().__init__(option)\n",
        "        self.num_paths = 2**self.option.steps  # Number of paths\n",
        "        self.average_prices = np.zeros(\n",
        "            self.num_paths\n",
        "        )  # Average stock price for each path\n",
        "        self.option_payoffs = np.zeros(self.num_paths)  # Option payoff for each path\n",
        "        self.path_probabilities = np.zeros(self.num_paths)  # Probability of each path\n",
        "        self.path_deltas = []\n",
        "        self.paths = []\n",
        "\n",
        "    def generate_paths(self, N):\n",
        "        paths = []\n",
        "        for i in range(2**N):\n",
        "            path = []\n",
        "            for j in range(N):\n",
        "                path.append((i >> j) & 1)  # 0 = down, 1 = up\n",
        "            paths.append(path)\n",
        "        return paths\n",
        "\n",
        "    def calculate_delta(self, stock_prices, option_values):\n",
        "\n",
        "        deltas = []\n",
        "        for i in range(len(stock_prices) - 1):\n",
        "            S_up = stock_prices[i] * self.u\n",
        "            S_down = stock_prices[i] * self.d\n",
        "            V_up = self.payoff(S_up)\n",
        "            V_down = self.payoff(S_down)\n",
        "            delta = (V_up - V_down) / (S_up - S_down) if S_up != S_down else 0\n",
        "            deltas.append(delta)\n",
        "        return deltas\n",
        "\n",
        "    def price(self):\n",
        "        # Generate all paths\n",
        "        self.paths = self.generate_paths(self.option.steps)\n",
        "\n",
        "        for i, path in enumerate(self.paths):\n",
        "            stock_prices = [S0]  # Start with S0\n",
        "            for move in path:\n",
        "                if move == 1:  # Up movement\n",
        "                    stock_prices.append(stock_prices[-1] * self.u)\n",
        "                else:  # Down movement\n",
        "                    stock_prices.append(stock_prices[-1] * self.d)\n",
        "\n",
        "            # Calculate the average stock price for this path\n",
        "            self.average_prices[i] = np.mean(stock_prices)\n",
        "            self.option_payoffs[i] = self.payoff(self.average_prices[i])\n",
        "\n",
        "            # Calculate the probability of this path\n",
        "            num_ups = sum(path)\n",
        "            num_downs = N - num_ups\n",
        "            self.path_probabilities[i] = (p**num_ups) * ((1 - p) ** num_downs)\n",
        "\n",
        "            # Calculate deltas along the path\n",
        "            deltas = self.calculate_delta(stock_prices, self.option_payoffs)\n",
        "            self.path_deltas.append(deltas)\n",
        "\n",
        "        # Step 2: Calculate the option price as the weighted average of payoffs\n",
        "        option_price = np.sum(self.option_payoffs * self.path_probabilities)\n",
        "\n",
        "        return {\n",
        "            \"price\": option_price,\n",
        "            \"delta\": self.path_deltas,\n",
        "            \"paths\": paths,\n",
        "            \"average_prices\": self.average_prices,\n",
        "            \"option_payoffs\": self.option_payoffs,\n",
        "            \"path_probabilities\": self.path_probabilities,\n",
        "        }\n",
        "\n",
        "    def print_paths(self):\n",
        "\n",
        "        print(\"Path Details:\")\n",
        "        for i, path in enumerate(self.paths):\n",
        "            path_str = \"\".join([\"u\" if x == 1 else \"d\" for x in path])\n",
        "            print(f\"Path {i + 1} ({path_str}):\")\n",
        "            print(f\"  Average Stock Price: {self.average_prices[i]:.2f}\")\n",
        "            print(f\"  Option Payoff: {self.option_payoffs[i]:.2f}\")\n",
        "            print(f\"  Path Probability: {self.path_probabilities[i]:.3f}\")\n",
        "            print(\n",
        "                f\"  Path Deltas: {[f'{delta:.3f}' for delta in self.path_deltas[i]]}\\n\"\n",
        "            )\n",
        "\n",
        "        # Store results in matrices\n",
        "        results_matrix = np.vstack(\n",
        "            (self.average_prices, self.option_payoffs, self.path_probabilities)\n",
        "        ).T\n",
        "        print(\"\\nResults Matrix (Average Price, Option Payoff, Path Probability):\")\n",
        "        print(results_matrix)\n",
        "\n",
        "        # Calculate average delta at each time step\n",
        "        avg_deltas = np.mean(self.path_deltas, axis=0)\n",
        "        print(\"\\nAverage Delta at each time step:\")"
      ]
    }
  ],
  "metadata": {
    "colab": {
      "provenance": []
    },
    "kernelspec": {
      "display_name": "Python 3",
      "name": "python3"
    },
    "language_info": {
      "name": "python"
    }
  },
  "nbformat": 4,
  "nbformat_minor": 0
}

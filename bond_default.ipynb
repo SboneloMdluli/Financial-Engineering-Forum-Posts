{
 "cells": [
  {
   "cell_type": "markdown",
   "metadata": {},
   "source": [
    "# Corporate Bond Default"
   ]
  },
  {
   "cell_type": "markdown",
   "metadata": {},
   "source": [
    "Credit risk is defined as the potential falure for a counterparty to meet it's obligation. Failure can manifest itself in numerious ways such as ch this can be result in difficulties in making payments or defaulting all together. Loans are the main source of credit risk and instric to some fiancnail instruments such as bonds and derivatives. There exists a number of credit models which continue to evolve over the years such as the Moodys KMV RISKCalc, Credit Suise Credit+ and CreditPortfolioView. Typically credit risk is accessed over a one-year horizon per Basel standards. "
   ]
  },
  {
   "cell_type": "markdown",
   "metadata": {},
   "source": [
    "$$\n",
    "\\mathop{\\mathbb{E}}(L) = \\mathop{\\mathbb{E}}(EAD) \\times \\mathop{\\mathbb{E}}(LGD) \\times PD\n",
    "$$"
   ]
  },
  {
   "cell_type": "markdown",
   "metadata": {},
   "source": [
    "The expected loss(EL) over a horizon h can be broken into probability of default (PD), loss given default (LGD) and exposure at default (EAD). The probability of default is the likelihood a debtor defaulting within the horizon. Loss given default is the percentage . The above expression assumes that EAD, LGD and PD are independent which may not always hold."
   ]
  },
  {
   "cell_type": "markdown",
   "metadata": {},
   "source": [
    "In the case of a coorporate bond the counterparty defaults when they are unable to pay the principal or coupons."
   ]
  }
 ],
 "metadata": {
  "kernelspec": {
   "display_name": "Python 3",
   "language": "python",
   "name": "python3"
  },
  "language_info": {
   "codemirror_mode": {
    "name": "ipython",
    "version": 3
   },
   "file_extension": ".py",
   "mimetype": "text/x-python",
   "name": "python",
   "nbconvert_exporter": "python",
   "pygments_lexer": "ipython3",
   "version": "3.10.7"
  }
 },
 "nbformat": 4,
 "nbformat_minor": 2
}

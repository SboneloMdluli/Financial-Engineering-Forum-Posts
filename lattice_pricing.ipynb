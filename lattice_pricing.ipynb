{
  "nbformat": 4,
  "nbformat_minor": 0,
  "metadata": {
    "colab": {
      "provenance": []
    },
    "kernelspec": {
      "name": "python3",
      "display_name": "Python 3"
    },
    "language_info": {
      "name": "python"
    }
  },
  "cells": [
    {
      "cell_type": "code",
      "source": [
        "import numpy as np\n",
        "from timeit import default_timer as timer\n",
        "import matplotlib.pyplot as plt"
      ],
      "metadata": {
        "id": "ywk6Mm9aRqwn"
      },
      "execution_count": null,
      "outputs": []
    },
    {
      "cell_type": "code",
      "source": [
        "from enum import Enum\n",
        "\n",
        "class OptionType(Enum):\n",
        "    call, put = range(0,2)"
      ],
      "metadata": {
        "id": "2tX-HhPWAtCO"
      },
      "execution_count": null,
      "outputs": []
    },
    {
      "cell_type": "markdown",
      "source": [
        "European Binomial Tree"
      ],
      "metadata": {
        "id": "wIf4DJYpmCRq"
      }
    },
    {
      "cell_type": "code",
      "source": [
        "from dataclasses import dataclass\n",
        "\n",
        "@dataclass\n",
        "class Option:\n",
        "\n",
        "    s_ini: int\n",
        "    strike_price: int\n",
        "    maturity: int\n",
        "    risk_free_rate: float\n",
        "    sigma: float\n",
        "    steps: int\n",
        "    option_type: OptionType"
      ],
      "metadata": {
        "id": "aSAWDua1DBX7"
      },
      "execution_count": null,
      "outputs": []
    },
    {
      "cell_type": "code",
      "source": [
        "class BinomialTree:\n",
        "    def __init__(self, option: Option):\n",
        "        self.option = option\n",
        "        self.dt = option.maturity / option.steps\n",
        "        self.u = np.exp(option.sigma * np.sqrt(self.dt))\n",
        "        self.d = np.exp(-option.sigma * np.sqrt(self.dt))\n",
        "        self.p = (np.exp(option.risk_free_rate * self.dt) - self.d) / (self.u - self.d)\n",
        "        self.price_matrix = np.zeros([option.steps + 1, option.steps + 1])\n",
        "        self.underlying_matrix = np.zeros([option.steps + 1, option.steps + 1])\n",
        "        self.delta_matrix = np.zeros([option.steps, option.steps])\n",
        "\n",
        "    def price(self):\n",
        "\n",
        "      N = self.option.steps\n",
        "      for i in range(0,N+1):\n",
        "\n",
        "        # price on tree edges\n",
        "        self.underlying_matrix[N,i] = self.option.s_ini* (self.u ** (i)) * (self.d ** (N-i))\n",
        "\n",
        "        # call\n",
        "        if self.option.option_type == OptionType.call:\n",
        "          self.price_matrix[N,i] = max(self.underlying_matrix[N,i] - self.option.strike_price, 0)\n",
        "        # put\n",
        "        else:\n",
        "          self.price_matrix[N,i] = max(self.option.strike_price-self.underlying_matrix[N,i],0)\n",
        "\n",
        "      for j in range(N-1,-1,-1):\n",
        "        for i in range(0,j+1):\n",
        "          self.price_matrix[j,i] = np.exp(-self.option.risk_free_rate*self.dt)*(self.p*self.price_matrix[j+1,i+1]+(1-self.p)*self.price_matrix[j+1,i])\n",
        "          self.underlying_matrix[j,i] = self.option.s_ini*(self.u**(i))*(self.d**(j-i))\n",
        "          self.delta_matrix[j,i] = (self.price_matrix[j+1,i+1]-self.price_matrix[j+1,i])/(self.underlying_matrix[j+1,i+1]-self.underlying_matrix[j+1,i])\n",
        "\n",
        "\n",
        "      return {\n",
        "              \"price\" : self.price_matrix[0,0],\n",
        "              \"underlying\" : self.underlying_matrix,\n",
        "              \"delta\" : self.delta_matrix\n",
        "              }\n"
      ],
      "metadata": {
        "id": "XQXvoRApG5eE"
      },
      "execution_count": null,
      "outputs": []
    },
    {
      "cell_type": "code",
      "source": [
        "call_option = Option(100, 110, 3/12,0.05, 0.2, 200, OptionType.call)\n",
        "binomial_tree = BinomialTree(call_option)\n",
        "call_price = binomial_tree.price()[\"price\"]\n",
        "print(\"call price: {:.2f}\".format(call_price))"
      ],
      "metadata": {
        "colab": {
          "base_uri": "https://localhost:8080/"
        },
        "id": "Hv0U2Ts1Wrun",
        "outputId": "92228abd-77a0-4d6b-d6af-b15883374485"
      },
      "execution_count": null,
      "outputs": [
        {
          "output_type": "stream",
          "name": "stdout",
          "text": [
            "call price: 1.19\n"
          ]
        }
      ]
    },
    {
      "cell_type": "code",
      "source": [
        "price_array = []\n",
        "\n",
        "for N in [1, 10, 100, 200, 300, 400, 500, 600, 700, 800, 900, 1000, 1500, 2000, 2500]:\n",
        "    call_option = Option(100, 110, 3/12,0.05, 0.2, N, OptionType.call)\n",
        "    res = BinomialTree(call_option).price()\n",
        "    call_price = res[\"price\"]\n",
        "    price_array.append(call_price)\n"
      ],
      "metadata": {
        "id": "AgTJhi7mRuiM"
      },
      "execution_count": null,
      "outputs": []
    },
    {
      "cell_type": "code",
      "source": [
        "time_array = []\n",
        "for N in [1, 10, 100, 200, 300, 400, 500, 600, 700, 800, 900, 1000, 1500, 2000, 2500]:\n",
        "    start = timer()\n",
        "    call_option = Option(100, 110, 3/12,0.05, 0.2, N, OptionType.call)\n",
        "    res = BinomialTree(call_option).price()\n",
        "    end = timer()\n",
        "    time_array.append(end-start)"
      ],
      "metadata": {
        "id": "FKf-Qd8eR9I4"
      },
      "execution_count": null,
      "outputs": []
    },
    {
      "cell_type": "code",
      "source": [
        "\n",
        "N = [1, 10, 100, 200, 300, 400, 500, 600, 700, 800, 900, 1000, 1500, 2000, 2500]\n",
        "fig, (ax1, ax2) = plt.subplots(2)\n",
        "ax1.plot(N, np.array(price_array))\n",
        "ax1.set_title(\"Price convergence\")\n",
        "ax2.plot(N ,np.array(time_array))\n",
        "ax2.set_title(\"Execution time\")\n",
        "ax1.grid(True)\n",
        "ax2.grid(True)\n",
        "ax1.set_xlabel(\"Number of steps (N)\")\n",
        "ax1.set_ylabel(\"Option Price\")\n",
        "ax2.set_xlabel(\"Number of steps (N)\")\n",
        "ax2.set_ylabel(\"Execution time in seconds\")\n",
        "fig.tight_layout()"
      ],
      "metadata": {
        "colab": {
          "base_uri": "https://localhost:8080/",
          "height": 486
        },
        "id": "K9Io3U5mZLI1",
        "outputId": "0b6956e0-77bb-4bc1-bf03-67ea3505f1f7"
      },
      "execution_count": null,
      "outputs": [
        {
          "output_type": "display_data",
          "data": {
            "text/plain": [
              "<Figure size 640x480 with 2 Axes>"
            ],
            "image/png": "[encoded data removed]"
          },
          "metadata": {}
        }
      ]
    },
    {
      "cell_type": "markdown",
      "source": [
        "Comparing call and put deltas"
      ],
      "metadata": {
        "id": "FEhjgaXOdv0Y"
      }
    },
    {
      "cell_type": "code",
      "source": [
        "call_option = Option(100, 110, 3/12,0.05, 0.2, 200, OptionType.call)\n",
        "put_option = Option(100, 110, 3/12,0.05, 0.2, 200, OptionType.put)\n",
        "\n",
        "res_call = BinomialTree(call_option).price()\n",
        "res_put = BinomialTree(put_option).price()"
      ],
      "metadata": {
        "id": "lYc7TCNbhWqW"
      },
      "execution_count": null,
      "outputs": []
    },
    {
      "cell_type": "code",
      "source": [
        "call_delta = res_call[\"delta\"][0][0]\n",
        "print(\"call delta: {:.2f}\".format(call_delta))"
      ],
      "metadata": {
        "colab": {
          "base_uri": "https://localhost:8080/"
        },
        "id": "qe8_qKBkiCIo",
        "outputId": "ac3a5155-25a4-40d2-de04-278a0d3a81e4"
      },
      "execution_count": null,
      "outputs": [
        {
          "output_type": "stream",
          "name": "stdout",
          "text": [
            "call delta: 0.22\n"
          ]
        }
      ]
    },
    {
      "cell_type": "code",
      "source": [
        "put_delta = res_put[\"delta\"][0][0]\n",
        "print(\"put delta: {:.2f}\".format(put_delta))"
      ],
      "metadata": {
        "colab": {
          "base_uri": "https://localhost:8080/"
        },
        "id": "o57zjMALiI3J",
        "outputId": "abfb9268-fe9c-4b3e-c30e-a78e1af1a995"
      },
      "execution_count": null,
      "outputs": [
        {
          "output_type": "stream",
          "name": "stdout",
          "text": [
            "put delta: -0.78\n"
          ]
        }
      ]
    },
    {
      "cell_type": "markdown",
      "source": [
        "Computing vega"
      ],
      "metadata": {
        "id": "bSdDOZBUwCau"
      }
    },
    {
      "cell_type": "code",
      "source": [
        "sigma_25 = 0.25\n",
        "call_option_vg_25 = Option(100, 110, 3/12,0.05,sigma_25, 200, OptionType.call)\n",
        "put_option_vg_25 = Option(100, 110, 3/12,0.05, sigma_25, 200, OptionType.put)\n",
        "\n",
        "res_call = BinomialTree(call_option).price()[\"price\"]\n",
        "res_put = BinomialTree(put_option).price()[\"price\"]"
      ],
      "metadata": {
        "id": "3F-tULvswEnn"
      },
      "execution_count": null,
      "outputs": []
    },
    {
      "cell_type": "code",
      "source": [
        "#vega\n",
        "\n",
        "call_vega = (BinomialTree(call_option_vg_25).price()[\"price\"]-res_call)/0.05\n",
        "put_vega = (BinomialTree(put_option_vg_25).price()[\"price\"]-res_put)/0.05\n",
        "\n",
        "print(\"call vega: {:.2f}\".format(call_vega))\n",
        "print(\"put vega: {:.2f}\".format(put_vega))\n"
      ],
      "metadata": {
        "colab": {
          "base_uri": "https://localhost:8080/"
        },
        "id": "Sitz3B_swZP9",
        "outputId": "5a1497cb-1132-4fd3-e3a7-b519d12592f4"
      },
      "execution_count": null,
      "outputs": [
        {
          "output_type": "stream",
          "name": "stdout",
          "text": [
            "call vega: 15.86\n",
            "put vega: 15.84\n"
          ]
        }
      ]
    },
    {
      "cell_type": "markdown",
      "source": [
        "Trinomial Tree"
      ],
      "metadata": {
        "id": "mKf0MAQXmIf7"
      }
    }
  ]
}
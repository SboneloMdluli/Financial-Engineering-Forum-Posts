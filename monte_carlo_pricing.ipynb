{
  "nbformat": 4,
  "nbformat_minor": 0,
  "metadata": {
    "colab": {
      "provenance": []
    },
    "kernelspec": {
      "name": "python3",
      "display_name": "Python 3"
    },
    "language_info": {
      "name": "python"
    }
  },
  "cells": [
    {
      "cell_type": "code",
      "source": [
        "import matplotlib.pyplot as plt\n",
        "import numpy as np\n",
        "import scipy.stats as ss\n",
        "\n",
        "# Fix seed\n",
        "seed = 65647437836358831880808032086803839626\n",
        "rng = np.random.default_rng(seed)\n",
        "rng.random()"
      ],
      "metadata": {
        "colab": {
          "base_uri": "https://localhost:8080/"
        },
        "id": "W7zznICF8OjK",
        "outputId": "37bee19f-7709-4e8f-9085-d07bb603cc36"
      },
      "execution_count": null,
      "outputs": [
        {
          "output_type": "execute_result",
          "data": {
            "text/plain": [
              "0.2607535757716577"
            ]
          },
          "metadata": {},
          "execution_count": 1435
        }
      ]
    },
    {
      "cell_type": "markdown",
      "source": [
        "#Step 1"
      ],
      "metadata": {
        "id": "kKbPbe1F8Fn4"
      }
    },
    {
      "cell_type": "markdown",
      "source": [
        "Merton Jump Diffusion Model\n",
        "\n",
        "$$\n",
        "\\begin{equation*}\n",
        "    dS_t = \\left( r - r_j \\right) S_t dt + \\sigma S_t dZ_t + J_t S_t dN_t\n",
        "\\end{equation*}\n",
        "$$\n",
        "\n",
        "Discretized form:\n",
        "\n",
        "$$\n",
        "\\begin{equation*}\n",
        "    S_t = S_{t-1} \\left( e^{\\left(r-r_j-\\frac{\\sigma^2}{2}\\right)dt + \\sigma \\sqrt{dt} z_t^1}+\n",
        "    \\left(e^{\\mu_j+\\delta z_t^2}-1 \\right) y_t \\right)\n",
        "\\end{equation*}\n",
        "$$\n",
        "\n",
        "$$\n",
        "\\begin{equation*}\n",
        "r_j = \\lambda \\left(e^{\\mu_j+\\frac{\\delta^2}{2}}\\right)-1\n",
        "\\end{equation*}\n",
        "$$"
      ],
      "metadata": {
        "id": "A-bEJxdtNtIw"
      }
    },
    {
      "cell_type": "code",
      "source": [
        "def merton_jump_diffusion(S0,K,T,r,sigma,mu,delta,lamb):\n",
        "  Ite = 10000  # Number of simulations (paths)\n",
        "  M = 100  # Number of steps\n",
        "  dt = T / M  # Time-step\n",
        "  SM = np.zeros((M + 1, Ite))\n",
        "  SM[0] = S0\n",
        "\n",
        "  # rj\n",
        "  rj = lamb * (np.exp(mu + 0.5 * delta**2) - 1)\n",
        "  z1 = rng.normal(0, 1,(M + 1, Ite))\n",
        "  z2 = rng.normal(0, 1,(M + 1, Ite))\n",
        "  y = rng.poisson(lamb * dt, (M + 1, Ite))\n",
        "\n",
        "  for t in range(1, M + 1):\n",
        "      SM[t] = SM[t - 1] * (\n",
        "          np.exp((r - rj - 0.5 * sigma**2) * dt + sigma * np.sqrt(dt) * z1[t])\n",
        "          + (np.exp(mu + delta * z2[t]) - 1) * y[t]\n",
        "      )\n",
        "      SM[t] = np.maximum(\n",
        "          SM[t], 0.00001\n",
        "      )  # To ensure that the price never goes below zero!\n",
        "\n",
        "  return SM"
      ],
      "metadata": {
        "id": "i20ya1nEMJqm"
      },
      "execution_count": null,
      "outputs": []
    },
    {
      "cell_type": "code",
      "source": [
        "def merton_european_option(SM,K,T,r):\n",
        "\n",
        "  S_T = SM[-1]\n",
        "\n",
        "  # Compute payoffs\n",
        "  call_payoffs = np.maximum(S_T - K, 0)\n",
        "  put_payoffs = np.maximum(K - S_T, 0)\n",
        "\n",
        "  # Discount and average\n",
        "  call_price = np.exp(-r * T) * np.mean(call_payoffs)\n",
        "  put_price = np.exp(-r * T) * np.mean(put_payoffs)\n",
        "\n",
        "  return call_price,put_price"
      ],
      "metadata": {
        "id": "yY5oT2haqlpd"
      },
      "execution_count": null,
      "outputs": []
    },
    {
      "cell_type": "markdown",
      "source": [
        "λ = 0.75"
      ],
      "metadata": {
        "id": "8f6SOJjVMiB9"
      }
    },
    {
      "cell_type": "code",
      "source": [
        "mu = -0.5  # intensity mean\n",
        "delta = 0.22\n",
        "r = 0.055  # Risk-free rate\n",
        "sigma = 0.35  # Volatility\n",
        "T = 3/12  # Maturity/time\n",
        "S0 = K = 80"
      ],
      "metadata": {
        "id": "Rna1NJj1xWtZ"
      },
      "execution_count": null,
      "outputs": []
    },
    {
      "cell_type": "code",
      "source": [
        "lamb_075 = 0.75  # intensity\n",
        "SM_lamb_075 = merton_jump_diffusion(S0,K,T,r,sigma,mu,delta,lamb)"
      ],
      "metadata": {
        "id": "fTmGCpXRZA0e"
      },
      "execution_count": null,
      "outputs": []
    },
    {
      "cell_type": "code",
      "source": [
        "call_075,put_075 = merton_european_option(SM_lamb_075,K,T,r)\n",
        "print(f\"Call price: {call_075:.2f}\")\n",
        "print(f\"Put price: {put_075:.2f}\")"
      ],
      "metadata": {
        "colab": {
          "base_uri": "https://localhost:8080/"
        },
        "id": "78JaVITxZCT-",
        "outputId": "5763ce8e-1721-4895-872a-579c3d7fd863"
      },
      "execution_count": null,
      "outputs": [
        {
          "output_type": "stream",
          "name": "stdout",
          "text": [
            "Call price: 6.81\n",
            "Put price: 5.81\n"
          ]
        }
      ]
    },
    {
      "cell_type": "code",
      "source": [
        "assert round(call_075+K*np.exp(-r*T)) == round(S0+put_075)"
      ],
      "metadata": {
        "id": "T4n7r1DAwmLt"
      },
      "execution_count": null,
      "outputs": []
    },
    {
      "cell_type": "markdown",
      "source": [
        "λ = 0.25"
      ],
      "metadata": {
        "id": "QO0A2QEBMjAq"
      }
    },
    {
      "cell_type": "code",
      "source": [
        "lamb_025 = 0.25\n",
        "SM_lamb_025 = merton_jump_diffusion(S0,K,T,r,sigma,mu,delta,lamb)"
      ],
      "metadata": {
        "id": "lcDbf88iyBmN"
      },
      "execution_count": null,
      "outputs": []
    },
    {
      "cell_type": "code",
      "source": [
        "call_025,put_025 = merton_european_option(SM_lamb_025,K,T,r)\n",
        "print(f\"Call price: {call_025:.2f}\")\n",
        "print(f\"Put price: {put_025:.2f}\")"
      ],
      "metadata": {
        "colab": {
          "base_uri": "https://localhost:8080/"
        },
        "id": "4zqmM6ubY3cF",
        "outputId": "cc3ef0f7-b3f3-4dc8-c0f5-c3c4fc0ec0c9"
      },
      "execution_count": null,
      "outputs": [
        {
          "output_type": "stream",
          "name": "stdout",
          "text": [
            "Call price: 6.81\n",
            "Put price: 5.72\n"
          ]
        }
      ]
    },
    {
      "cell_type": "code",
      "source": [
        "assert round(call_025+K*np.exp(-r*T)) == round(S0+put_025)"
      ],
      "metadata": {
        "id": "F9NsS9mWyNCT"
      },
      "execution_count": null,
      "outputs": []
    },
    {
      "cell_type": "markdown",
      "source": [
        "https://people.maths.ox.ac.uk/gilesm/mc/mc/lec7.pdf"
      ],
      "metadata": {
        "id": "-eINYGmQNtY8"
      }
    },
    {
      "cell_type": "markdown",
      "source": [
        "$delta = \\frac{\\partial V}{\\partial S}$"
      ],
      "metadata": {
        "id": "RtfFgMYBKbJf"
      }
    },
    {
      "cell_type": "code",
      "source": [
        "# use finite difference methods\n",
        "# Delta = [V(S+h) -  V(S-h)] / 2h\n",
        "def delta_finite_difference(S0,K,T,r,sigma,mu,delta,lamb,increment=0.01):\n",
        "\n",
        "  delta_S0_up = S0+increment\n",
        "  delta_S0_down = S0-increment\n",
        "\n",
        "  SM_delta_up = merton_jump_diffusion(delta_S0_up,K,T,r,sigma,mu,delta,lamb)\n",
        "  delta_call_up, delta_put_up = merton_european_option(SM_delta_up,K,T,r)\n",
        "\n",
        "  SM_delta_down = merton_jump_diffusion(delta_S0_down,K,T,r,sigma,mu,delta,lamb)\n",
        "  delta_call_down, delta_put_down = merton_european_option(SM_delta_down,K,T,r)\n",
        "\n",
        "  call_delta = (delta_call_up - delta_call_down) / 2*S0*increment\n",
        "  put_delta = (delta_put_up - delta_put_down) / 2*S0*increment\n",
        "\n",
        "  return call_delta, put_delta\n"
      ],
      "metadata": {
        "id": "ftHtUMupJjlb"
      },
      "execution_count": null,
      "outputs": []
    },
    {
      "cell_type": "markdown",
      "source": [
        "$gamma = \\frac{\\partial ^2 V}{\\partial S^2}$"
      ],
      "metadata": {
        "id": "Fa_rQC_eMiII"
      }
    },
    {
      "cell_type": "code",
      "source": [
        "# use finite difference methods\n",
        "# Gamma = [V(S+h) - 2V(S) + V(S-h)] / h^2\n",
        "def gamma_finite_difference(S0,K,T,r,sigma,mu,gamma,lamb,increment=0.01):\n",
        "  delta_S0_up = S0+increment\n",
        "  delta_S0_down = S0-increment\n",
        "\n",
        "  # V(S + increment)\n",
        "  SM_gamma_up = merton_jump_diffusion(delta_S0_up,K,T,r,sigma,mu,delta,lamb)\n",
        "  gamma_call_up, gamma_put_up = merton_european_option(SM_gamma_up,K,T,r)\n",
        "  # V(S - increment)\n",
        "  SM_gamma_down = merton_jump_diffusion(delta_S0_down,K,T,r,sigma,mu,delta,lamb)\n",
        "  gamma_call_down, gamma_put_down = merton_european_option(SM_gamma_down,K,T,r)\n",
        "\n",
        "  # V(S)\n",
        "  SM_gamma_mid = merton_jump_diffusion(S0,K,T,r,sigma,mu,delta,lamb)\n",
        "  gamma_call_mid, gamma_put_mid = merton_european_option(SM_gamma_mid,K,T,r)\n",
        "\n",
        "  call_gamma = (gamma_call_up - 2*gamma_call_mid + gamma_call_down) / (S0*increment)**2\n",
        "  put_gamma = (gamma_put_up - 2*gamma_put_mid + gamma_put_down) / (S0*increment)**2\n",
        "\n",
        "  return call_gamma, put_gamma\n"
      ],
      "metadata": {
        "id": "oYUKIJRKM62-"
      },
      "execution_count": null,
      "outputs": []
    },
    {
      "cell_type": "markdown",
      "source": [
        "λ = 0.75"
      ],
      "metadata": {
        "id": "ykd5CXx2L0OL"
      }
    },
    {
      "cell_type": "code",
      "source": [
        "call_delta_075, put_delta_075 = delta_finite_difference(S0,K,T,r,sigma,mu,delta,lamb_075)\n",
        "print(f\"Call delta (λ = 0.75): {call_delta_075:.4f}\")\n",
        "print(f\"Put delta (λ = 0.75): {put_delta_075:.4f}\")"
      ],
      "metadata": {
        "colab": {
          "base_uri": "https://localhost:8080/"
        },
        "id": "EwkZNMkfKeoi",
        "outputId": "b429983b-1728-448b-9666-4b69e62253d8"
      },
      "execution_count": null,
      "outputs": [
        {
          "output_type": "stream",
          "name": "stdout",
          "text": [
            "Call delta (λ = 0.75): 0.0351\n",
            "Put delta (λ = 0.75): -0.0275\n"
          ]
        }
      ]
    },
    {
      "cell_type": "code",
      "source": [
        "call_gamma_075, put_gamma_075 = gamma_finite_difference(S0,K,T,r,sigma,mu,delta,lamb_075)\n",
        "print(f\"Call gamma (λ = 0.75): {call_gamma_075:.4f}\")\n",
        "print(f\"Put gamma (λ = 0.75): {put_gamma_075:.4f}\")"
      ],
      "metadata": {
        "colab": {
          "base_uri": "https://localhost:8080/"
        },
        "id": "TfedyN7oSbFP",
        "outputId": "2b97634c-7dfa-4a71-9875-a88be0d6f217"
      },
      "execution_count": null,
      "outputs": [
        {
          "output_type": "stream",
          "name": "stdout",
          "text": [
            "Call gamma (λ = 0.75): 0.1232\n",
            "Put gamma (λ = 0.75): 0.4446\n"
          ]
        }
      ]
    },
    {
      "cell_type": "markdown",
      "source": [
        "λ = 0.25"
      ],
      "metadata": {
        "id": "WakeCFNrMHqj"
      }
    },
    {
      "cell_type": "code",
      "source": [
        "lamb_025 = 0.25\n",
        "call_delta_025, put_delta_025 = delta_finite_difference(S0,K,T,r,sigma,mu,delta,lamb_025)\n",
        "print(f\"Call delta (λ = 0.25): {call_delta_025:.4f}\")\n",
        "print(f\"Put delta (λ = 0.25): {put_delta_025:.4f}\")"
      ],
      "metadata": {
        "colab": {
          "base_uri": "https://localhost:8080/"
        },
        "id": "u43FJlarL7sc",
        "outputId": "0f6fdfa4-24f0-4a08-ca47-d02ac83f5fff"
      },
      "execution_count": null,
      "outputs": [
        {
          "output_type": "stream",
          "name": "stdout",
          "text": [
            "Call delta (λ = 0.25): 0.0716\n",
            "Put delta (λ = 0.25): 0.0248\n"
          ]
        }
      ]
    },
    {
      "cell_type": "code",
      "source": [
        "call_gamma_025, put_gamma_025 = gamma_finite_difference(S0,K,T,r,sigma,mu,delta,lamb_025)\n",
        "print(f\"Call gamma (λ = 0.25): {call_gamma_025:.4f}\")\n",
        "print(f\"Put gamma (λ = 0.25): {put_gamma_025:.4f}\")"
      ],
      "metadata": {
        "colab": {
          "base_uri": "https://localhost:8080/"
        },
        "id": "8kg6eQ2BaJfp",
        "outputId": "e2ca2df3-2fdb-424b-a4b8-71e4d9fb592f"
      },
      "execution_count": null,
      "outputs": [
        {
          "output_type": "stream",
          "name": "stdout",
          "text": [
            "Call gamma (λ = 0.25): -0.1686\n",
            "Put gamma (λ = 0.25): -0.1720\n"
          ]
        }
      ]
    },
    {
      "cell_type": "markdown",
      "source": [
        "American options use LSMC because of early exercise option"
      ],
      "metadata": {
        "id": "kjaiGxfMAzTM"
      }
    },
    {
      "cell_type": "markdown",
      "source": [
        "https://berthine.github.io/doc/berthine_master-document.pdf , Page 21"
      ],
      "metadata": {
        "id": "l232CtM0-cAO"
      }
    },
    {
      "cell_type": "markdown",
      "source": [
        "https://people.math.ethz.ch/~hjfurrer/teaching/LongstaffSchwartzAmericanOptionsLeastSquareMonteCarlo.pdf , Page 120"
      ],
      "metadata": {
        "id": "eH59a9iU-dG0"
      }
    },
    {
      "cell_type": "code",
      "source": [
        "def lsmc_payoff(S_T, K, n_steps, option_type):\n",
        "\n",
        "    n_paths = S_T.shape[1]\n",
        "    dt = T / n_steps\n",
        "\n",
        "    # Initialize cash flow matrix to track when each option is exercised\n",
        "    cash_flows = np.zeros((n_steps + 1, n_paths))\n",
        "\n",
        "    # Set terminal payoffs at maturity\n",
        "    if option_type == 'call':\n",
        "        cash_flows[n_steps] = np.maximum(S_T[n_steps] - K, 0)\n",
        "    else:  # put\n",
        "        cash_flows[n_steps] = np.maximum(K - S_T[n_steps], 0)\n",
        "\n",
        "    # Track which paths exercise mark with true\n",
        "    exercised = np.zeros(n_paths, dtype=bool)\n",
        "\n",
        "    # Backward induction through time steps\n",
        "    for t in range(n_steps - 1, 0, -1):\n",
        "\n",
        "        immediate_exercise = np.maximum(S_T[t] - K, 0) if option_type == 'call' else np.maximum(K - S_T[t], 0)\n",
        "\n",
        "        # Identify in-the-money paths that haven't been exercised yet\n",
        "        if option_type == 'call':\n",
        "            itm = (S_T[t] > K) & ~exercised\n",
        "        else:\n",
        "            itm = (S_T[t] < K) & ~exercised\n",
        "\n",
        "        if np.sum(itm) > 0:\n",
        "            # Get stock prices for in-the-money paths\n",
        "            X_itm = S_T[t, itm]\n",
        "\n",
        "            # Calculate discounted future cash flows for regression\n",
        "            future_cf = np.zeros(n_paths)\n",
        "            for i in range(t + 1, n_steps + 1):\n",
        "                future_cf += cash_flows[i] * np.exp(-r * (i - t) * dt)\n",
        "\n",
        "            # Get future cash flows for in-the-money paths\n",
        "            Y_itm = future_cf[itm]\n",
        "\n",
        "            # Fit regression cubic regression\n",
        "            X_design = np.column_stack([\n",
        "                np.ones(len(X_itm)),\n",
        "                X_itm,\n",
        "                X_itm**2,\n",
        "                X_itm**3\n",
        "            ])\n",
        "\n",
        "\n",
        "            beta = np.linalg.lstsq(X_design, Y_itm, rcond=None)[0]\n",
        "            continuation_values = X_design @ beta\n",
        "\n",
        "\n",
        "            # Compare early exercise vs holding\n",
        "            exercise_decision = immediate_exercise[itm] > continuation_values\n",
        "\n",
        "            # Get indices of paths to exercise at time t\n",
        "            exercise_idx = np.where(itm)[0][exercise_decision]\n",
        "\n",
        "            if len(exercise_idx) > 0:\n",
        "                # Record cash flow at time t for exercised paths\n",
        "                cash_flows[t, exercise_idx] = immediate_exercise[exercise_idx]\n",
        "\n",
        "                # Mark these paths as exercised\n",
        "                exercised[exercise_idx] = True\n",
        "                cash_flows[t + 1: n_steps + 1, exercise_idx] = 0\n",
        "\n",
        "    # Discount all cash flows to time 0\n",
        "    discounted_payoffs = np.zeros(n_paths)\n",
        "    for t in range(1, n_steps + 1):\n",
        "        discounted_payoffs += cash_flows[t] * np.exp(-r * t * dt)\n",
        "\n",
        "    return discounted_payoffs"
      ],
      "metadata": {
        "id": "F_4r1vSactFi"
      },
      "execution_count": null,
      "outputs": []
    },
    {
      "cell_type": "code",
      "source": [
        "def merton_american_option(SM,K,T,r,option_type):\n",
        "  Ite = 10000  # Number of simulations (paths)\n",
        "  M = 100  # Number of steps\n",
        "\n",
        "  fitted_payoffs= lsmc_payoff(SM,K,M,option_type)\n",
        "  price = np.mean(fitted_payoffs)\n",
        "\n",
        "  return price"
      ],
      "metadata": {
        "id": "hFEj-oBltOCL"
      },
      "execution_count": null,
      "outputs": []
    },
    {
      "cell_type": "markdown",
      "source": [
        "λ = 0.75"
      ],
      "metadata": {
        "id": "T5RhkaSTMZLw"
      }
    },
    {
      "cell_type": "code",
      "source": [
        "america_call_merton = merton_american_option(SM_lamb_075,K,T,r,'call')\n",
        "america_put_merton = merton_american_option(SM_lamb_075,K,T,r,'put')\n",
        "print(f\"American call price: {america_call_merton:.2f}\")\n",
        "print(f\"American put price: {america_put_merton:.2f}\")"
      ],
      "metadata": {
        "colab": {
          "base_uri": "https://localhost:8080/"
        },
        "id": "0ftq-bEaDMBk",
        "outputId": "1914c8e0-02d3-4a83-ed30-f9d43465fd71"
      },
      "execution_count": null,
      "outputs": [
        {
          "output_type": "stream",
          "name": "stdout",
          "text": [
            "American call price: 7.51\n",
            "American put price: 6.24\n"
          ]
        }
      ]
    },
    {
      "cell_type": "code",
      "source": [
        "assert round(america_call_merton+K*np.exp(-r*T)) == round(S0+america_put_merton)"
      ],
      "metadata": {
        "id": "qckhtZUoMn0v"
      },
      "execution_count": null,
      "outputs": []
    },
    {
      "cell_type": "markdown",
      "source": [
        "λ = 0.25"
      ],
      "metadata": {
        "id": "dHu9nqEOMeKL"
      }
    },
    {
      "cell_type": "code",
      "source": [
        "lamb = 0.25  # intensity\n",
        "america_call_merton = merton_american_option(SM_lamb_025,K,T,r,'call')\n",
        "america_put_merton = merton_american_option(SM_lamb_025,K,T,r,'put')\n",
        "print(f\"American call price: {america_call_merton:.2f}\")\n",
        "print(f\"American put price: {america_put_merton:.2f}\")"
      ],
      "metadata": {
        "colab": {
          "base_uri": "https://localhost:8080/"
        },
        "id": "3Uz42aJEMdZY",
        "outputId": "ef84f7a6-9a3e-4871-81a9-c4e9aa5caea8"
      },
      "execution_count": null,
      "outputs": [
        {
          "output_type": "stream",
          "name": "stdout",
          "text": [
            "American call price: 7.02\n",
            "American put price: 6.17\n"
          ]
        }
      ]
    },
    {
      "cell_type": "code",
      "source": [
        "assert round(america_call_merton+K*np.exp(-r*T)) == round(S0+america_put_merton)"
      ],
      "metadata": {
        "id": "IkqhR7pZNSCP"
      },
      "execution_count": null,
      "outputs": []
    },
    {
      "cell_type": "markdown",
      "source": [
        "European Down-and-In (Knock In Barrier) Option"
      ],
      "metadata": {
        "id": "CziajIUhb22H"
      }
    },
    {
      "cell_type": "code",
      "source": [
        "def down_in_barrier(S0,K,T,r,sigma,mu,delta,lamb, barrier):\n",
        "\n",
        "    S = merton_jump_diffusion(S0,K,T,r,sigma,mu,delta,lamb)\n",
        "    S_T = S[-1]\n",
        "\n",
        "    barrier_hit = np.any(S <= barrier, axis=0)\n",
        "\n",
        "    # Calculate payoff (only valid if barrier is hit)\n",
        "    call_payoff = np.where(barrier_hit, np.maximum(S_T - K, 0), 0)\n",
        "    put_payoff =  np.where(barrier_hit, np.maximum(K - S_T, 0), 0)\n",
        "\n",
        "    # Calculate option price\n",
        "    call_price = np.exp(-r * T) * np.mean(call_payoff)\n",
        "    put_price = np.exp(-r * T) * np.mean(put_payoff)\n",
        "\n",
        "    return call_price, put_price"
      ],
      "metadata": {
        "id": "AwFsJeUmDmy7"
      },
      "execution_count": null,
      "outputs": []
    },
    {
      "cell_type": "code",
      "source": [
        "mu = -0.5  # intensity mean\n",
        "delta = 0.22\n",
        "r = 0.055  # Risk-free rate\n",
        "sigma = 0.35  # Volatility\n",
        "T = 3/12  # Maturity/time\n",
        "S0 = 80\n",
        "K = barrier = 65"
      ],
      "metadata": {
        "id": "cBIUZkLMgCNt"
      },
      "execution_count": null,
      "outputs": []
    },
    {
      "cell_type": "code",
      "source": [
        "dai_call, dai_put = down_in_barrier(S0,K,T,r,sigma,mu,delta,lamb,barrier)\n",
        "print(f\"European DAI Barrier call price: {dai_call:.2f}\")\n",
        "print(f\"European DAI Barrier put price: {dai_put:.2f}\")"
      ],
      "metadata": {
        "colab": {
          "base_uri": "https://localhost:8080/"
        },
        "id": "NKgkQmX9e4LW",
        "outputId": "fcdd6654-8f5f-4ab7-fcc4-d4920168b642"
      },
      "execution_count": null,
      "outputs": [
        {
          "output_type": "stream",
          "name": "stdout",
          "text": [
            "European DAI Barrier call price: 0.53\n",
            "European DAI Barrier put price: 1.43\n"
          ]
        }
      ]
    }
  ]
}
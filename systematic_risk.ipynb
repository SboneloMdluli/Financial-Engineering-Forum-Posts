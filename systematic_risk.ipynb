{
 "cells": [
  {
   "cell_type": "markdown",
   "metadata": {},
   "source": [
    "# Systematic Risk\n",
    "\n",
    "Systematic risk refers to the likelihood of financial instability that can lead to widespread failures within the financial system. Unlike other risks, systematic risk cannot be mitigated through diversification, only through hedging. In an economic downturn, the bankruptcy of one firm cannot be easily absorbed by stronger competitors. Given its complex nature, there are multiple definitions and models for systematic risk. Monitoring this risk is crucial as it helps systematically important financial institutions and policymakers calibrate or limit risk exposure.\n",
    "\n",
    "### Systematic Risk Review\n",
    "\n",
    "Value-At-Risk is the most a financial firm can loss over a period of time with some confidence $1-\\alpha$. Formally VaR of $R$ is defined as follows\n",
    "\n",
    "\n",
    "\n",
    "\n",
    "\\begin{equation}\n",
    "VaR_\\alpha(R) = -\\inf\\{x:\\mathbb{P}[R \\le r] \\ge \\alpha \\}\n",
    "= -\\sup\\{x:\\mathbb{P}[R \\le r] <\\alpha \\}\n",
    "\\end{equation}\n",
    "\n",
    "\n",
    "VaR is a basic model with several well-known limitations, including a lack of sub-additivity and failure to consider tail dependency. In contrast, Expected Shortfall (ES) improves upon VaR as it is a coherent risk measure that satisfies monotonicity, sub-additivity, positive homogeneity, and translation invariance. Expected shortfall is the expected loss conditional on returns being less that VaR. Expected shortfall measures the average loss in scenarios where losses exceed the VaR. In a market with $n$ financial institutions the overall return $R$ can be decomposed into contributions $w_i$ from individual returns $r_i$, that is $R=\\sum_{i=1}^{n} w_ir_i$ \n",
    "\n",
    "\n",
    "\\begin{equation}\n",
    "\\begin{split}\n",
    "\tES_\\alpha &= -\\mathbb{E}[R|R\\le -Var] \\\\\n",
    "&= -\\sum_{i=1}^{n} w_i\\mathbb{E}[r_i|R \\le -VaR]\\\\\n",
    "\\end{split}\n",
    "\\end{equation}\n",
    "\n",
    "It follows from above that the Marginal Expected Shortfall(MES), that is the risk contribution of a single institution $i$ to the total risk can be expressed as follows.\n",
    "\n",
    "\\begin{equation}\n",
    "MES_i = \\frac{\\partial ES_a}{\\partial w_i} = - \\mathbb{E}[r_i|R \\le -VaR]\n",
    "\\end{equation}\n",
    "\n",
    "A drawback of expected shortfall is that it cannot be used proactively since it relies on the actual occurrence of the risk. We extend this definition to account for the market value of an institution $M_t$, $ M_t=W_t+D_t$ where ($W_t$) is the working capital and $D_t$ is the debt of said institution at time $t$. The expected capital shortfall is the amount lost during a crisis. The capital shortfall of an institution is defined as $CS_{it}=k(D_{t+h}+W_{t+h})-W_{t+h}$. It is assumed that the debt cannot be renegotiated during a crisis.\n",
    "\n",
    "\\begin{equation}\n",
    "\\begin{split}\n",
    "ECS_t&=\\mathbb{E}_t[k(D_{t+h}+W_{t+h})-W_{t+h}|R_{\\Delta t}\\lt C]\\\\\n",
    "&= kD_t -(1-k)\\mathbb{E}[W_{t+h}|R_{\\Delta t}\\lt C] \\\\\n",
    "&= kD_t -(1-k)W_t\\mathbb{E}_t[R_{i,t+h}|R_{m,t+h}\\lt C] \\\\\n",
    "&= kD_t -(1-k)W_t(1-LRMES) \n",
    "\\end{split}\n",
    "\\end{equation}\n",
    "\n",
    "The Long Run Marginal Expected Shortfall (LRMES) is an extension of MES over horizon $h$, at a percentage market crash $C$, is defined as $LRMES= - \\mathbb{E}_t[R_{i,t+1:t+h}|R_{m,t+1:t+h}\\lt C]$. When the capital shortfall is negative, it indicates that the firm has a capital surplus. However, a positive capital shortfall suggests that the firm is at risk. Factors contributing to capital shortfall include the firm's size, leverage, and risk exposure."
   ]
  },
  {
   "cell_type": "markdown",
   "metadata": {},
   "source": [
    "### GARCH-DCC"
   ]
  },
  {
   "cell_type": "markdown",
   "metadata": {},
   "source": [
    "The $LRMES$ captures the dependency of the institution returns to those of the market. The joint returns between the market and institution given information $\\mathcal{F_{t-1}}$ till $t-1$ can be expressed as\n",
    "\n",
    "\n",
    "\\begin{equation}\n",
    "\\left( \\begin{matrix}\n",
    " r_{it} \\\\ \n",
    " r_{mt}\n",
    "\\end{matrix} \\right) |\\mathcal{F}_{t-1}\n",
    "\\sim \\mathcal{D}\\left(\\left( \\begin{matrix}\n",
    "0 \\\\\n",
    "0\n",
    "\\end{matrix} \\right),\\left[\\begin{matrix}\n",
    " \\sigma_{it}^2 & \\rho_{it}\\sigma_{it}\\sigma_{mt} \\\\\n",
    " \\rho_{it}\\sigma_{it}\\sigma_{mt} & \\sigma_{mt}^2\n",
    "\\end{matrix}\\right]\\right)  \n",
    "\\end{equation}"
   ]
  },
  {
   "cell_type": "markdown",
   "metadata": {},
   "source": [
    "Where $r_{it}=log(1+R_{it})$ and $r_{mt}=log(1+R_{mt})$. There are numerous techniques for determining the conditional covariance matrix such as VEC, BEKK, CCC and DCC. However we will use DCC as its computational efficient compared to the other models. We model the variances in the above equation using a GJR-GARCH(1,1) model which takes into account the leverage effect, where negative shocks have a larger impact compared to positive shocks."
   ]
  },
  {
   "cell_type": "markdown",
   "metadata": {},
   "source": [
    "\\begin{equation}\n",
    "r_t= \\varepsilon_t \\sqrt{\\mathbf{H_t}}, \\varepsilon_t  \\sim \\mathcal{N}(0, \\mathbf{I})\n",
    "\\end{equation}\n",
    "\n",
    "\\begin{equation}\n",
    "\\sigma_t^2=w+(\\alpha+\\gamma\\mathbb{1}_{r_{t-1<0}})r_{t-1}^2+\\beta\\sigma^2_{t-1}\n",
    "\\end{equation}"
   ]
  },
  {
   "cell_type": "markdown",
   "metadata": {},
   "source": [
    "The indicator function $\\mathbb{1}_{r_{t-1<0}}$ introduces asymmetrical shocks as negative shocks are emphasised by a factor of $\\gamma$. The covariance matrix $\\mathbf{H}_t$ can be decomposed as \n",
    "\n",
    "\\begin{equation}\n",
    "\\mathbf{H}_t = \\mathbf{D}_t\\mathbf{R}_t\\mathbf{D}_t\n",
    "\\end{equation}\n",
    "\n",
    "$\\mathbf{D}_t=\\text{diag}(\\sqrt{\\sigma_t})$ contains the conditional variances of the a univariate GARCH(1,1) for each asset. $\\mathbf{R}_t$ is the time varying conditional correlations matrix.\n",
    "\n",
    "\\begin{equation}\n",
    "corr\\left( \\begin{matrix}\n",
    "  \\varepsilon_{it} \\\\\n",
    " \\varepsilon_{mt}\n",
    "\\end{matrix} \\right) = \\left(\\begin{matrix}\n",
    "1 & \\rho_{it} \\\\\n",
    " \\rho_{it} &  1\n",
    "\\end{matrix}\\right)=\\mathbf{R}_t = \\text{diag}(\\mathbf{Q}_t)^{-1/2} \\mathbf{Q}_t \\text{diag}(\\mathbf{Q}_t)^{-1/2}\n",
    "\\end{equation}"
   ]
  },
  {
   "cell_type": "markdown",
   "metadata": {},
   "source": [
    "$\\mathbf{R}_t$ is estimated using the pseudo correlation matrix $Q_t$.\n",
    "\\begin{equation}\n",
    "Q_t = \\left( 1-\\alpha-\\beta \\right)S+\\alpha\\left( \\varepsilon_{t-1} \\varepsilon_{t-1}'\\right)+\\beta Q_{t-1}\n",
    "\\end{equation}"
   ]
  }
 ],
 "metadata": {
  "language_info": {
   "name": "python"
  }
 },
 "nbformat": 4,
 "nbformat_minor": 2
}

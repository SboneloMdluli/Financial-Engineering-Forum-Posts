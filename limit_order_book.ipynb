{
 "cells": [
  {
   "cell_type": "markdown",
   "metadata": {},
   "source": [
    "# Limit Order Book\n",
    "\n",
    "In Lesson 4, Ali Akansu emphasizes the function of the Limit Order Book (LOB). The LOB represents all active orders in the market at a specific time, playing a key role in facilitating an order-driven market. Typically, the LOB is divided into a buy side and a sell side, with each security having its own LOB. The highest price at time  among active buy orders is the bid price. The lowest price at time  among active sell orders is the ask price. An order in the LOB includes:\n",
    "\n",
    "- Volume\n",
    "- Side (buy/sell)\n",
    "- Limit price\n",
    "- Submission time\n",
    "\n",
    "The LOB is crucial for price discovery, which reflects the current state of the market. Price discovery is the process by which buyers and sellers determine the price of an asset through supply and demand.\n",
    "\n",
    "## Order Matching\n",
    "\n",
    "Orders are executed using order matching algorithms, which aim to enhance liquidity within an exchange.\n",
    "\n",
    "### Price-Time Protocol (PTT)\n",
    "\n",
    "PTT sorts orders by price and time. Buy orders are sorted in descending price order, while sell orders are arranged in ascending price order. If multiple orders share the same price, they are prioritized by submission time, following a first-in, first-out (FIFO) approach. This algorithm promotes market efficiency by rewarding traders who submit their orders quickly.\n",
    "\n",
    "### Pro Rata\n",
    "\n",
    "This algorithm sorts buy and sell orders similarly to PTT but handles price conflicts differently. Shares are distributed proportionally based on order size, leading many partially filled orders, which can be undesirable. Traders in such markets are incentivised to place large orders and may delay their trades to observe price movements. As prices fluctuate, earlier orders are often canceled, creating inefficiencies in price discovery.\n",
    "\n",
    "The choice of matching algorithm influences how market participants behave, and the state of the LOB impacts traders' decisions, just as the LOB itself is shaped by those decisions."
   ]
  }
 ],
 "metadata": {
  "language_info": {
   "name": "python"
  }
 },
 "nbformat": 4,
 "nbformat_minor": 2
}

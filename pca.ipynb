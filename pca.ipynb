{
 "cells": [
  {
   "cell_type": "markdown",
   "metadata": {},
   "source": [
    "# Intuition behind PCA"
   ]
  },
  {
   "cell_type": "markdown",
   "metadata": {},
   "source": [
    "Principal component analysis (PCA) is a dimensionality reduction technique that aims to project data into a lower dimensional space while preserving important properties of the data, such as relative distances between data points. This is similar to other dimensionality reduction methods like t-SNE and UMAP. The goal of PCA is to retain as much information about the original high-dimensional data as possible, which is achieved by choosing an orthogonal basis (the principal components) that maximises the variance in the data. This is equivalent to minimising the residuals in the projected subspace. \n",
    "\n",
    "The objective of (PCA) is to project a dataset $X \\in \\mathbb{R}^{n \\times d}$ into a lower dimensional vector $v \\in \\mathbb{R}^{d}$ s.t $\\langle\\,v,v\\rangle=\\|v\\| = 1$. The i-th projection is $y_i=\\langle\\, x_i,v\\rangle v$"
   ]
  },
  {
   "cell_type": "markdown",
   "metadata": {},
   "source": [
    "## Maximising Variance"
   ]
  },
  {
   "cell_type": "markdown",
   "metadata": {},
   "source": [
    "\n",
    "\\begin{equation}\n",
    "\\begin{split}\n",
    "&v^{*}=\\operatorname*{argmax}_v \\frac{1}{N}\\sum_{i=1}^{N}\\langle\\, x_i,v\\rangle^{2}\\\\\n",
    " &= \\operatorname*{argmax}_v \\frac{1}{N}\\sum_{i=1}^{N}(v^{T}x_i-v^{T}\\bar x_i)^{2}\\\\\n",
    "&=\n",
    "v^{T}(\\frac{1}{N}\\sum_{i=1}^{N}(x_i-\\bar x_i))v \\\\\n",
    "&= v^{T} \\Sigma v \n",
    "\\end{split}\n",
    "\\end{equation}\n",
    "\n",
    "\n",
    "Where $\\Sigma$ is the covariance matrix. We define the Lagrangian for this problem as follows:\n",
    "\n",
    "\\begin{equation}\n",
    "\\mathcal{L}(v,\\lambda) = v^{T} \\Sigma v - \\lambda(v^Tv-1)\n",
    "\\end{equation}\n",
    "\n",
    "\n",
    "\n",
    "\\begin{align*}\n",
    " \\frac{\\partial \\mathcal{L}(v,\\lambda)}{\\partial v} = 2\\Sigma v - 2\\lambda v = 0 \\\\\n",
    "\\implies \\Sigma v = \\lambda v\n",
    "\\end{align*}\n",
    "\n",
    "\n",
    "The magnitude of the eigenvalues is proportional to the variance in the direction of that vector, i.e $\\lambda_{1} \\geq \\lambda_{2},...,\\lambda_{d}$. "
   ]
  },
  {
   "cell_type": "markdown",
   "metadata": {},
   "source": [
    "## Minimising projected squared residuals\n",
    "\n",
    "\n",
    "\\begin{equation}\n",
    "\\begin{split}\n",
    "&\\operatorname*{argmin}_v \\frac{1}{N}\\sum_{i=1}^{N}\\| x_i - \\langle\\,x_i,v\\rangle v\\|^2\\\\\n",
    "&=\\frac{1}{N}\\sum_{i=1}^{N}\\| x_i\\|^2 - 2\\langle\\,x_i,v\\rangle^2 + \\langle\\,x_i,v\\rangle^2  \\|v\\|^2 \\\\\n",
    "&\\mathop{\\mathbb{E}(\\langle\\,x_i,v\\rangle ^2)}= \\frac{-1}{N}\\sum_{i=1}^{N}  \\langle\\,x_i,v\\rangle^2 \\\\\n",
    "\\end{split}\n",
    "\\end{equation}\n"
   ]
  },
  {
   "cell_type": "markdown",
   "metadata": {},
   "source": [
    "Recognising that variance can the written as follows:\n",
    "\n",
    "\\begin{equation}\n",
    "\\mathop{\\mathbb{V}(X)} = \\mathop{\\mathbb{E}(X^2)}-\\mathop{\\mathbb{E}(X)^2}\n",
    "\\end{equation}\n",
    "\n",
    "We can do the following substitution\n",
    "\n",
    "\\begin{equation}\n",
    "\\begin{split}\n",
    "- \\mathop{\\mathbb{E}(\\langle\\,x,v\\rangle ^2)} \n",
    "&=\\mathop{\\mathbb{V}(\\langle\\,x,v\\rangle)} + \\mathop{\\mathbb{E}(\\langle\\,x,v\\rangle )^2}\n",
    "\\end{split}\n",
    "\\end{equation}\n",
    "\n",
    "Based on the assumption that the data follow a Gaussian distribution with a mean of zero, we can obtain $\\mathop{\\mathbb{E}(\\langle\\,x,v\\rangle )^2}=\\langle\\,0,v\\rangle = 0$\n",
    "\n",
    "\n",
    "\\begin{align}\n",
    "- \\mathop{\\mathbb{E}(\\langle\\,x,v\\rangle ^2)} \n",
    "=\\mathop{\\mathbb{V}(\\langle\\,x,v\\rangle)}\\\\\n",
    "v^{*} =\\operatorname*{argmax}_v \\mathop{\\mathbb{V}(\\langle\\,x,v\\rangle)}\n",
    "\\end{align}\n",
    "\n",
    "\n",
    "This gives us an expression that maximizes the variance in the projected data."
   ]
  }
 ],
 "metadata": {
  "kernelspec": {
   "display_name": "hive-pulse-analysis",
   "language": "python",
   "name": "python3"
  },
  "language_info": {
   "name": "python",
   "version": "3.10.14"
  }
 },
 "nbformat": 4,
 "nbformat_minor": 2
}

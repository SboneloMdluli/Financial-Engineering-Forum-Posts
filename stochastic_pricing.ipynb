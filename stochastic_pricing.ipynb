{
  "cells": [
    {
      "cell_type": "code",
      "execution_count": 689,
      "metadata": {
        "colab": {
          "base_uri": "https://localhost:8080/"
        },
        "id": "W7zznICF8OjK",
        "outputId": "f9c596ee-136f-47fc-b347-5ce6067dffc3"
      },
      "outputs": [
        {
          "data": {
            "text/plain": [
              "0.2607535757716577"
            ]
          },
          "execution_count": 689,
          "metadata": {},
          "output_type": "execute_result"
        }
      ],
      "source": [
        "import matplotlib.pyplot as plt\n",
        "import numpy as np\n",
        "import scipy.stats as ss\n",
        "import math\n",
        "import pandas as pd\n",
        "from scipy.stats import norm\n",
        "\n",
        "# Fix seed\n",
        "seed = 65647437836358831880808032086803839626\n",
        "rng = np.random.default_rng(seed)\n",
        "rng.random()"
      ]
    },
    {
      "cell_type": "markdown",
      "metadata": {
        "id": "kKbPbe1F8Fn4"
      },
      "source": [
        "#Step 1"
      ]
    },
    {
      "cell_type": "markdown",
      "metadata": {
        "id": "6WFpGp6UnF9J"
      },
      "source": [
        "## Question 5"
      ]
    },
    {
      "cell_type": "markdown",
      "metadata": {
        "id": "bBIz5tXlnOAp"
      },
      "source": [
        "correlation value of -0.30"
      ]
    },
    {
      "cell_type": "code",
      "execution_count": 690,
      "metadata": {
        "colab": {
          "base_uri": "https://localhost:8080/"
        },
        "id": "aZQJ1ghKSnc7",
        "outputId": "259bbd70-0499-4a8e-aca4-ed05629880ae"
      },
      "outputs": [
        {
          "name": "stdout",
          "output_type": "stream",
          "text": [
            "ATM European Call Price: 2.88\n",
            "ATM European Put Price: 2.82\n"
          ]
        }
      ],
      "source": [
        "# Heston model parameters\n",
        "v0 = 0.032  # Initial variance\n",
        "kappa_v = 1.85  # Mean reversion speed\n",
        "theta_v = 0.045  # Long-term variance\n",
        "xi = 0.35  # Volatility of volatility\n",
        "rho = -0.30  # Correlation between stock price and volatility\n",
        "Ite = 1000000  # Number of simulations\n",
        "M = 100  # Number of time steps\n",
        "\n",
        "# Other parameters\n",
        "S0 = 80  # Current stock price\n",
        "K = S0  # ATM strike price\n",
        "r = 0.055  # Risk-free rate\n",
        "T = 3/12  # Time to maturity (3 months)\n",
        "\n",
        "def heston_mc(S0, K, r, T, Ite, M):\n",
        "    dt = T / M\n",
        "    S = np.full((Ite,), S0)\n",
        "    v = np.full((Ite,), v0)\n",
        "\n",
        "    for _ in range(M):\n",
        "        Z1 = np.random.normal(0, 1, Ite)\n",
        "        Z2 = rho * Z1 + np.sqrt(1 - rho**2) * np.random.normal(0, 1, Ite)\n",
        "\n",
        "        v = np.maximum(v + kappa_v * (theta_v - v) * dt + xi * np.sqrt(v * dt) * Z2, 0)\n",
        "        S = S * np.exp((r - 0.5 * v) * dt + np.sqrt(v * dt) * Z1)\n",
        "\n",
        "    call_payoff = np.maximum(S - K, 0) * np.exp(-r * T)\n",
        "    put_payoff = np.maximum(K - S, 0) * np.exp(-r * T)\n",
        "\n",
        "    call_price = np.mean(call_payoff)\n",
        "    put_price = np.mean(put_payoff)\n",
        "\n",
        "    return call_price, put_price\n",
        "\n",
        "# Price the ATM European call and put options\n",
        "call_price, put_price = heston_mc(S0, K, r, T, Ite, M)\n",
        "\n",
        "print(f\"ATM European Call Price: {call_price:.2f}\")\n",
        "print(f\"ATM European Put Price: {put_price:.2f}\")"
      ]
    },
    {
      "cell_type": "markdown",
      "metadata": {
        "id": "GYFYpZ-9nVIn"
      },
      "source": [
        "## Question 6"
      ]
    },
    {
      "cell_type": "markdown",
      "metadata": {
        "id": "3ygVH93VnVg1"
      },
      "source": [
        "correlation\n",
        "value of -0.70"
      ]
    },
    {
      "cell_type": "code",
      "execution_count": 691,
      "metadata": {
        "colab": {
          "base_uri": "https://localhost:8080/"
        },
        "id": "EPcgXmo6mnsr",
        "outputId": "2e335ee2-5a71-4c1d-9969-d3dae48165bc"
      },
      "outputs": [
        {
          "name": "stdout",
          "output_type": "stream",
          "text": [
            "ATM European Call Price (ρ = -0.70): 2.12\n",
            "ATM European Put Price (ρ = -0.70): 3.45\n"
          ]
        }
      ],
      "source": [
        "# Heston model parameters\n",
        "v0 = 0.032  # Initial variance\n",
        "kappa_v = 1.85  # Mean reversion speed\n",
        "theta_v = 0.045  # Long-term variance\n",
        "xi = 0.35  # Volatility of volatility\n",
        "rho = -0.70  # Correlation between stock price and volatility (updated to -0.70)\n",
        "Ite = 1000000  # Number of simulations\n",
        "M = 100  # Number of time steps\n",
        "\n",
        "# Other parameters\n",
        "S0 = 80  # Current stock price\n",
        "K = S0  # ATM strike price\n",
        "r = 0.055  # Risk-free rate\n",
        "T = 3/12  # Time to maturity (3 months)\n",
        "\n",
        "# Price the ATM European call and put options\n",
        "call_price, put_price = heston_mc(S0, K, r, T, Ite, M)\n",
        "\n",
        "print(f\"ATM European Call Price (ρ = -0.70): {call_price:.2f}\")\n",
        "print(f\"ATM European Put Price (ρ = -0.70): {put_price:.2f}\")"
      ]
    },
    {
      "cell_type": "markdown",
      "metadata": {
        "id": "7G2Ao9YBoTTy"
      },
      "source": [
        "## Question 7"
      ]
    },
    {
      "cell_type": "code",
      "execution_count": 692,
      "metadata": {
        "colab": {
          "base_uri": "https://localhost:8080/"
        },
        "id": "K5QTEkoSmubl",
        "outputId": "dcc8df11-40f1-433a-ced2-b26b63ba7f05"
      },
      "outputs": [
        {
          "name": "stdout",
          "output_type": "stream",
          "text": [
            "ATM European Call Delta (ρ = -0.30): 0.48\n",
            "ATM European Put Delta (ρ = -0.30): -0.48\n",
            "ATM European Call Gamma (ρ = -0.30): 0.06\n",
            "ATM European Put Gamma (ρ = -0.30): 0.08\n",
            "ATM European Call Delta (ρ = -0.70): 0.48\n",
            "ATM European Put Delta (ρ = -0.70): -0.49\n",
            "ATM European Call Gamma (ρ = -0.70): 0.07\n",
            "ATM European Put Gamma (ρ = -0.70): 0.06\n"
          ]
        }
      ],
      "source": [
        "def calculate_greeks(S0, K, r, T, Ite, M, rho):\n",
        "    # Perturbation amount\n",
        "    delta_S = S0 * 0.01  # 1% of S0\n",
        "\n",
        "    # Calculate prices for S0 + delta_S\n",
        "    call_price_up, put_price_up = heston_mc(S0 + delta_S, K, r, T, Ite, M)\n",
        "\n",
        "    # Calculate prices for S0 - delta_S\n",
        "    call_price_down, put_price_down = heston_mc(S0 - delta_S, K, r, T, Ite, M)\n",
        "\n",
        "    # Calculate prices for S0\n",
        "    call_price, put_price = heston_mc(S0, K, r, T, Ite, M)\n",
        "\n",
        "    # Delta calculation\n",
        "    call_delta = (call_price_up - call_price_down) / (2 * delta_S)\n",
        "    put_delta = (put_price_up - put_price_down) / (2 * delta_S)\n",
        "\n",
        "    # Gamma calculation\n",
        "    call_gamma = (call_price_up - 2 * call_price + call_price_down) / (delta_S**2)\n",
        "    put_gamma = (put_price_up - 2 * put_price + put_price_down) / (delta_S**2)\n",
        "\n",
        "    return call_delta, put_delta, call_gamma, put_gamma\n",
        "\n",
        "# Calculate delta and gamma for rho = -0.30\n",
        "call_delta_1, put_delta_1, call_gamma_1, put_gamma_1 = calculate_greeks(S0, K, r, T, Ite, M, rho)\n",
        "\n",
        "print(f\"ATM European Call Delta (ρ = -0.30): {call_delta_1:.2f}\")\n",
        "print(f\"ATM European Put Delta (ρ = -0.30): {put_delta_1:.2f}\")\n",
        "\n",
        "print(f\"ATM European Call Gamma (ρ = -0.30): {call_gamma_1:.2f}\")\n",
        "print(f\"ATM European Put Gamma (ρ = -0.30): {put_gamma_1:.2f}\")\n",
        "\n",
        "# Update rho to -0.70\n",
        "rho = -0.70\n",
        "\n",
        "# Calculate delta and gamma for rho = -0.70\n",
        "call_delta_2, put_delta_2, call_gamma_2, put_gamma_2 = calculate_greeks(S0, K, r, T, Ite, M, rho)\n",
        "\n",
        "print(f\"ATM European Call Delta (ρ = -0.70): {call_delta_2:.2f}\")\n",
        "print(f\"ATM European Put Delta (ρ = -0.70): {put_delta_2:.2f}\")\n",
        "\n",
        "print(f\"ATM European Call Gamma (ρ = -0.70): {call_gamma_2:.2f}\")\n",
        "print(f\"ATM European Put Gamma (ρ = -0.70): {put_gamma_2:.2f}\")"
      ]
    },
    {
      "cell_type": "markdown",
      "metadata": {
        "id": "Tj1FfS8_oXQ3"
      },
      "source": [
        "## Question 8"
      ]
    },
    {
      "cell_type": "markdown",
      "metadata": {
        "id": "A-bEJxdtNtIw"
      },
      "source": [
        "Merton Jump Diffusion Model\n",
        "\n",
        "$$\n",
        "\\begin{equation*}\n",
        "    dS_t = \\left( r - r_j \\right) S_t dt + \\sigma S_t dZ_t + J_t S_t dN_t\n",
        "\\end{equation*}\n",
        "$$\n",
        "\n",
        "Discretized form:\n",
        "\n",
        "$$\n",
        "\\begin{equation*}\n",
        "    S_t = S_{t-1} \\left( e^{\\left(r-r_j-\\frac{\\sigma^2}{2}\\right)dt + \\sigma \\sqrt{dt} z_t^1}+\n",
        "    \\left(e^{\\mu_j+\\delta z_t^2}-1 \\right) y_t \\right)\n",
        "\\end{equation*}\n",
        "$$\n",
        "\n",
        "$$\n",
        "\\begin{equation*}\n",
        "r_j = \\lambda \\left(e^{\\mu_j+\\frac{\\delta^2}{2}}\\right)-1\n",
        "\\end{equation*}\n",
        "$$"
      ]
    },
    {
      "cell_type": "code",
      "execution_count": 693,
      "metadata": {
        "id": "i20ya1nEMJqm"
      },
      "outputs": [],
      "source": [
        "def merton_jump_diffusion(S0,T,r,sigma,mu,delta,lamb):\n",
        "  Ite = 10000  # Number of simulations (paths)\n",
        "  M = 100  # Number of steps\n",
        "  dt = T / M  # Time-step\n",
        "  SM = np.zeros((M + 1, Ite))\n",
        "  SM[0] = S0\n",
        "\n",
        "  # rj\n",
        "  rj = lamb * (np.exp(mu + 0.5 * delta**2) - 1)\n",
        "  z1 = rng.normal(0, 1,(M + 1, Ite))\n",
        "  z2 = rng.normal(0, 1,(M + 1, Ite))\n",
        "  y = rng.poisson(lamb * dt, (M + 1, Ite))\n",
        "\n",
        "  for t in range(1, M + 1):\n",
        "      SM[t] = SM[t - 1] * (\n",
        "          np.exp((r - rj - 0.5 * sigma**2) * dt + sigma * np.sqrt(dt) * z1[t])\n",
        "          + (np.exp(mu + delta * z2[t]) - 1) * y[t]\n",
        "      )\n",
        "      SM[t] = np.maximum(\n",
        "          SM[t], 0.00001\n",
        "      )  # To ensure that the price never goes below zero!\n",
        "\n",
        "  return SM"
      ]
    },
    {
      "cell_type": "code",
      "execution_count": 694,
      "metadata": {
        "id": "yY5oT2haqlpd"
      },
      "outputs": [],
      "source": [
        "def merton_european_option(SM,K,T,r):\n",
        "\n",
        "  S_T = SM[-1]\n",
        "\n",
        "  # Compute payoffs\n",
        "  call_payoffs = np.maximum(S_T - K, 0)\n",
        "  put_payoffs = np.maximum(K - S_T, 0)\n",
        "\n",
        "  # Discount and average\n",
        "  call_price = np.exp(-r * T) * np.mean(call_payoffs)\n",
        "  put_price = np.exp(-r * T) * np.mean(put_payoffs)\n",
        "\n",
        "  return call_price,put_price"
      ]
    },
    {
      "cell_type": "markdown",
      "metadata": {
        "id": "8f6SOJjVMiB9"
      },
      "source": [
        "λ = 0.75"
      ]
    },
    {
      "cell_type": "code",
      "execution_count": 695,
      "metadata": {
        "id": "Rna1NJj1xWtZ"
      },
      "outputs": [],
      "source": [
        "mu = -0.5  # intensity mean\n",
        "delta = 0.22\n",
        "r = 0.055  # Risk-free rate\n",
        "sigma = 0.35  # Volatility\n",
        "T = 3/12  # Maturity/time\n",
        "S0 = K = 80"
      ]
    },
    {
      "cell_type": "code",
      "execution_count": 696,
      "metadata": {
        "id": "fTmGCpXRZA0e"
      },
      "outputs": [],
      "source": [
        "lamb_075 = 0.75  # intensity\n",
        "SM_lamb_075 = merton_jump_diffusion(S0,T,r,sigma,mu,delta,lamb_075)"
      ]
    },
    {
      "cell_type": "code",
      "execution_count": 697,
      "metadata": {
        "colab": {
          "base_uri": "https://localhost:8080/"
        },
        "id": "78JaVITxZCT-",
        "outputId": "c410cfa4-5c71-403e-836f-ddb2312daed8"
      },
      "outputs": [
        {
          "name": "stdout",
          "output_type": "stream",
          "text": [
            "Call price: 8.19\n",
            "Put price: 7.38\n"
          ]
        }
      ],
      "source": [
        "call_075,put_075 = merton_european_option(SM_lamb_075,K,T,r)\n",
        "print(f\"Call price: {call_075:.2f}\")\n",
        "print(f\"Put price: {put_075:.2f}\")"
      ]
    },
    {
      "cell_type": "code",
      "execution_count": 698,
      "metadata": {
        "id": "T4n7r1DAwmLt"
      },
      "outputs": [],
      "source": [
        "assert math.isclose(call_075+K*np.exp(-r*T),S0+put_075,rel_tol=0.5)"
      ]
    },
    {
      "cell_type": "markdown",
      "metadata": {
        "id": "2YbEIwjNoqVj"
      },
      "source": [
        "## Question 9"
      ]
    },
    {
      "cell_type": "markdown",
      "metadata": {
        "id": "QO0A2QEBMjAq"
      },
      "source": [
        "λ = 0.25"
      ]
    },
    {
      "cell_type": "code",
      "execution_count": 699,
      "metadata": {
        "id": "lcDbf88iyBmN"
      },
      "outputs": [],
      "source": [
        "lamb_025 = 0.25\n",
        "SM_lamb_025 = merton_jump_diffusion(S0,T,r,sigma,mu,delta,lamb_025)"
      ]
    },
    {
      "cell_type": "code",
      "execution_count": 700,
      "metadata": {
        "colab": {
          "base_uri": "https://localhost:8080/"
        },
        "id": "4zqmM6ubY3cF",
        "outputId": "e8c941e8-b634-4678-994c-352b5ea5b326"
      },
      "outputs": [
        {
          "name": "stdout",
          "output_type": "stream",
          "text": [
            "Call price: 6.84\n",
            "Put price: 5.74\n"
          ]
        }
      ],
      "source": [
        "call_025,put_025 = merton_european_option(SM_lamb_025,K,T,r)\n",
        "print(f\"Call price: {call_025:.2f}\")\n",
        "print(f\"Put price: {put_025:.2f}\")"
      ]
    },
    {
      "cell_type": "code",
      "execution_count": 701,
      "metadata": {
        "id": "F9NsS9mWyNCT"
      },
      "outputs": [],
      "source": [
        "assert math.isclose(call_025+K*np.exp(-r*T),S0+put_025,rel_tol=0.5)"
      ]
    },
    {
      "cell_type": "markdown",
      "metadata": {
        "id": "EDFuDANpoyGJ"
      },
      "source": [
        "## Question 10"
      ]
    },
    {
      "cell_type": "markdown",
      "metadata": {
        "id": "-eINYGmQNtY8"
      },
      "source": [
        "https://people.maths.ox.ac.uk/gilesm/mc/mc/lec7.pdf"
      ]
    },
    {
      "cell_type": "markdown",
      "metadata": {
        "id": "RtfFgMYBKbJf"
      },
      "source": [
        "$delta = \\frac{\\partial V}{\\partial S}$"
      ]
    },
    {
      "cell_type": "code",
      "execution_count": 702,
      "metadata": {
        "id": "ftHtUMupJjlb"
      },
      "outputs": [],
      "source": [
        "# use finite difference methods\n",
        "# Delta = [V(S+h) -  V(S-h)] / 2h\n",
        "def delta_finite_difference(S0,K,T,r,sigma,mu,delta,lamb,increment=0.01):\n",
        "\n",
        "  delta_S0_up = S0+increment\n",
        "  delta_S0_down = S0-increment\n",
        "\n",
        "  SM_delta_up = merton_jump_diffusion(delta_S0_up,T,r,sigma,mu,delta,lamb)\n",
        "  delta_call_up, delta_put_up = merton_european_option(SM_delta_up,K,T,r)\n",
        "\n",
        "  SM_delta_down = merton_jump_diffusion(delta_S0_down,T,r,sigma,mu,delta,lamb)\n",
        "  delta_call_down, delta_put_down = merton_european_option(SM_delta_down,K,T,r)\n",
        "\n",
        "  call_delta = (delta_call_up - delta_call_down) / 2*S0*increment\n",
        "  put_delta = (delta_put_up - delta_put_down) / 2*S0*increment\n",
        "\n",
        "  return call_delta, put_delta\n"
      ]
    },
    {
      "cell_type": "markdown",
      "metadata": {
        "id": "Fa_rQC_eMiII"
      },
      "source": [
        "$gamma = \\frac{\\partial ^2 V}{\\partial S^2}$"
      ]
    },
    {
      "cell_type": "code",
      "execution_count": 703,
      "metadata": {
        "id": "oYUKIJRKM62-"
      },
      "outputs": [],
      "source": [
        "# use finite difference methods\n",
        "# Gamma = [V(S+h) - 2V(S) + V(S-h)] / h^2\n",
        "def gamma_finite_difference(S0,K,T,r,sigma,mu,gamma,lamb,increment=0.01):\n",
        "  delta_S0_up = S0+increment\n",
        "  delta_S0_down = S0-increment\n",
        "\n",
        "  # V(S + increment)\n",
        "  SM_gamma_up = merton_jump_diffusion(delta_S0_up,T,r,sigma,mu,delta,lamb)\n",
        "  gamma_call_up, gamma_put_up = merton_european_option(SM_gamma_up,K,T,r)\n",
        "  # V(S - increment)\n",
        "  SM_gamma_down = merton_jump_diffusion(delta_S0_down,T,r,sigma,mu,delta,lamb)\n",
        "  gamma_call_down, gamma_put_down = merton_european_option(SM_gamma_down,K,T,r)\n",
        "\n",
        "  # V(S)\n",
        "  SM_gamma_mid = merton_jump_diffusion(S0,T,r,sigma,mu,delta,lamb)\n",
        "  gamma_call_mid, gamma_put_mid = merton_european_option(SM_gamma_mid,K,T,r)\n",
        "\n",
        "  call_gamma = (gamma_call_up - 2*gamma_call_mid + gamma_call_down) / (S0*increment)**2\n",
        "  put_gamma = (gamma_put_up - 2*gamma_put_mid + gamma_put_down) / (S0*increment)**2\n",
        "\n",
        "  return call_gamma, put_gamma\n"
      ]
    },
    {
      "cell_type": "markdown",
      "metadata": {
        "id": "ykd5CXx2L0OL"
      },
      "source": [
        "λ = 0.75"
      ]
    },
    {
      "cell_type": "code",
      "execution_count": 704,
      "metadata": {
        "colab": {
          "base_uri": "https://localhost:8080/"
        },
        "id": "EwkZNMkfKeoi",
        "outputId": "5803ed03-42fd-4b36-9f03-2c38dd3a7e38"
      },
      "outputs": [
        {
          "name": "stdout",
          "output_type": "stream",
          "text": [
            "Call delta (λ = 0.75): 0.0232\n",
            "Put delta (λ = 0.75): 0.0041\n"
          ]
        }
      ],
      "source": [
        "call_delta_075, put_delta_075 = delta_finite_difference(S0,K,T,r,sigma,mu,delta,lamb_075)\n",
        "print(f\"Call delta (λ = 0.75): {call_delta_075:.4f}\")\n",
        "print(f\"Put delta (λ = 0.75): {put_delta_075:.4f}\")"
      ]
    },
    {
      "cell_type": "code",
      "execution_count": 705,
      "metadata": {
        "colab": {
          "base_uri": "https://localhost:8080/"
        },
        "id": "TfedyN7oSbFP",
        "outputId": "4aa11ee4-ad92-4157-bfdb-35bc6044b9ce"
      },
      "outputs": [
        {
          "name": "stdout",
          "output_type": "stream",
          "text": [
            "Call gamma (λ = 0.75): 0.3456\n",
            "Put gamma (λ = 0.75): 0.3420\n"
          ]
        }
      ],
      "source": [
        "call_gamma_075, put_gamma_075 = gamma_finite_difference(S0,K,T,r,sigma,mu,delta,lamb_075)\n",
        "print(f\"Call gamma (λ = 0.75): {call_gamma_075:.4f}\")\n",
        "print(f\"Put gamma (λ = 0.75): {put_gamma_075:.4f}\")"
      ]
    },
    {
      "cell_type": "markdown",
      "metadata": {
        "id": "WakeCFNrMHqj"
      },
      "source": [
        "λ = 0.25"
      ]
    },
    {
      "cell_type": "code",
      "execution_count": 706,
      "metadata": {
        "colab": {
          "base_uri": "https://localhost:8080/"
        },
        "id": "u43FJlarL7sc",
        "outputId": "0528ea5d-df7d-469f-c106-e1b4091ec0a1"
      },
      "outputs": [
        {
          "name": "stdout",
          "output_type": "stream",
          "text": [
            "Call delta (λ = 0.25): 0.0742\n",
            "Put delta (λ = 0.25): 0.0679\n"
          ]
        }
      ],
      "source": [
        "lamb_025 = 0.25\n",
        "call_delta_025, put_delta_025 = delta_finite_difference(S0,K,T,r,sigma,mu,delta,lamb_025)\n",
        "print(f\"Call delta (λ = 0.25): {call_delta_025:.4f}\")\n",
        "print(f\"Put delta (λ = 0.25): {put_delta_025:.4f}\")"
      ]
    },
    {
      "cell_type": "code",
      "execution_count": 707,
      "metadata": {
        "colab": {
          "base_uri": "https://localhost:8080/"
        },
        "id": "8kg6eQ2BaJfp",
        "outputId": "668ad0aa-3d29-447c-a8b7-fb4e7793ca33"
      },
      "outputs": [
        {
          "name": "stdout",
          "output_type": "stream",
          "text": [
            "Call gamma (λ = 0.25): -0.1465\n",
            "Put gamma (λ = 0.25): 0.0240\n"
          ]
        }
      ],
      "source": [
        "call_gamma_025, put_gamma_025 = gamma_finite_difference(S0,K,T,r,sigma,mu,delta,lamb_025)\n",
        "print(f\"Call gamma (λ = 0.25): {call_gamma_025:.4f}\")\n",
        "print(f\"Put gamma (λ = 0.25): {put_gamma_025:.4f}\")"
      ]
    },
    {
      "cell_type": "markdown",
      "metadata": {
        "id": "m5ecVWD3qiq5"
      },
      "source": [
        "#Step 2"
      ]
    },
    {
      "cell_type": "markdown",
      "metadata": {
        "id": "HPZJodQ6qj1-"
      },
      "source": [
        "## Question 13"
      ]
    },
    {
      "cell_type": "markdown",
      "metadata": {
        "id": "l232CtM0-cAO"
      },
      "source": [
        "American options use LSMC because of early exercise option\n",
        "\n",
        "https://berthine.github.io/doc/berthine_master-document.pdf , Page 18-21\n",
        "\n",
        "https://people.math.ethz.ch/~hjfurrer/teaching/LongstaffSchwartzAmericanOptionsLeastSquareMonteCarlo.pdf , Page 120-124"
      ]
    },
    {
      "cell_type": "code",
      "execution_count": 708,
      "metadata": {
        "id": "F_4r1vSactFi"
      },
      "outputs": [],
      "source": [
        "def lsmc_payoff(S_T, K, T, r , n_steps, option_type):\n",
        "\n",
        "    n_paths = S_T.shape[1]\n",
        "    dt = T / n_steps\n",
        "    cash_flows = np.zeros((n_steps + 1, n_paths))\n",
        "\n",
        "    # Set terminal payoffs at maturity\n",
        "    if option_type == 'call':\n",
        "        cash_flows[n_steps] = np.maximum(S_T[n_steps] - K, 0)\n",
        "    else:\n",
        "        cash_flows[n_steps] = np.maximum(K - S_T[n_steps], 0)\n",
        "\n",
        "    exercised = np.zeros(n_paths, dtype=bool)\n",
        "\n",
        "    for t in range(n_steps - 1, 0, -1):\n",
        "\n",
        "        immediate_exercise = np.maximum(S_T[t] - K, 0) if option_type == 'call' else np.maximum(K - S_T[t], 0)\n",
        "\n",
        "        if option_type == 'call':\n",
        "            itm = (S_T[t] > K) & ~exercised\n",
        "        else:\n",
        "            itm = (S_T[t] < K) & ~exercised\n",
        "\n",
        "        if np.sum(itm) > 0:\n",
        "\n",
        "            X_itm = S_T[t, itm]\n",
        "\n",
        "            # Calculate discounted future cash flows\n",
        "            future_cf = np.zeros(n_paths)\n",
        "            for i in range(t + 1, n_steps + 1):\n",
        "                future_cf += cash_flows[i] * np.exp(-r * (i - t) * dt)\n",
        "\n",
        "            Y_itm = future_cf[itm]\n",
        "            X_design = np.column_stack([\n",
        "                np.ones(len(X_itm)),\n",
        "                X_itm,\n",
        "                X_itm**2,\n",
        "                X_itm**3\n",
        "            ])\n",
        "\n",
        "\n",
        "            beta = np.linalg.lstsq(X_design, Y_itm, rcond=None)[0]\n",
        "            continuation_values = X_design @ beta\n",
        "\n",
        "\n",
        "            #  early exercise vs holding\n",
        "            exercise_decision = immediate_exercise[itm] > continuation_values\n",
        "\n",
        "            # Get indices of paths to exercise at time t\n",
        "            exercise_idx = np.where(itm)[0][exercise_decision]\n",
        "\n",
        "            if len(exercise_idx) > 0:\n",
        "                # Record cash flow at time t for exercised paths\n",
        "                cash_flows[t, exercise_idx] = immediate_exercise[exercise_idx]\n",
        "\n",
        "                # Mark these paths as exercised\n",
        "                exercised[exercise_idx] = True\n",
        "                cash_flows[t + 1: n_steps + 1, exercise_idx] = 0\n",
        "\n",
        "    # Discount to time 0\n",
        "    discounted_payoffs = np.zeros(n_paths)\n",
        "    for t in range(1, n_steps + 1):\n",
        "        discounted_payoffs += cash_flows[t] * np.exp(-r * t * dt)\n",
        "\n",
        "    return discounted_payoffs"
      ]
    },
    {
      "cell_type": "markdown",
      "metadata": {
        "id": "gw91PUr_ttNs"
      },
      "source": [
        "### Heston model"
      ]
    },
    {
      "cell_type": "markdown",
      "metadata": {},
      "source": [
        "$$\n",
        "\\begin{equation*} \n",
        "    S_t = S_{t-1} e^{\\left( r - \\frac{\\nu_t}{2} \\right) dt + \\sigma \\sqrt{\\nu_t} dZ_1}\n",
        "\\end{equation*}\n",
        "$$\n",
        "$$\n",
        "\\begin{equation*} \n",
        "    \\nu_t = \\nu_{t-1} + \\kappa \\left( \\theta - \\nu_{t-1} \\right) dt + \\sigma \\sqrt{\\nu_{t-1}}dZ_2\n",
        "\\end{equation*}\n",
        "$$"
      ]
    },
    {
      "cell_type": "code",
      "execution_count": 709,
      "metadata": {
        "id": "w4h3S-6ourWa"
      },
      "outputs": [],
      "source": [
        "def heston_price_paths(S0, K, r, T, Ite, M):\n",
        "    dt = T / M\n",
        "    # Initialize a 2D array to store all paths at all time steps\n",
        "    paths = np.zeros((M + 1, Ite))\n",
        "    paths[0] = np.full(Ite, S0)  # Initial stock price\n",
        "\n",
        "    # Initialize variance\n",
        "    v = np.full(Ite, v0)\n",
        "\n",
        "    # Generate paths\n",
        "    for t in range(1, M + 1):\n",
        "        Z1 = rng.normal(0, 1, Ite)\n",
        "        Z2 = rho * Z1 + np.sqrt(1 - rho**2) * rng.normal(0, 1, Ite)\n",
        "\n",
        "        v = np.maximum(v + kappa_v * (theta_v - v) * dt + xi * np.sqrt(v * dt) * Z2, 0)\n",
        "        paths[t] = paths[t-1] * np.exp((r - 0.5 * v) * dt + np.sqrt(v * dt) * Z1)\n",
        "\n",
        "    return paths"
      ]
    },
    {
      "cell_type": "code",
      "execution_count": 710,
      "metadata": {
        "id": "qKHej_TPuqGm"
      },
      "outputs": [],
      "source": [
        "def heston_american_option(S0, K, T, r, option_type):\n",
        "    Ite = 10000  # Number of simulations (paths)\n",
        "    M = 100  # Number of steps\n",
        "    SM = heston_price_paths(S0, K, r, T, Ite, M)\n",
        "    fitted_payoffs = lsmc_payoff(SM, K, T, r, M, option_type)\n",
        "    price = np.mean(fitted_payoffs)\n",
        "\n",
        "    return price"
      ]
    },
    {
      "cell_type": "markdown",
      "metadata": {
        "id": "WyRZ_668t7rt"
      },
      "source": [
        "rho = -0.30"
      ]
    },
    {
      "cell_type": "code",
      "execution_count": 711,
      "metadata": {
        "id": "NaBMBI1Pt5dw"
      },
      "outputs": [],
      "source": [
        "# Heston model parameters\n",
        "rho = -0.30  # Correlation between stock price and volatility\n",
        "\n",
        "# Other parameters\n",
        "S0 = 80  # Current stock price\n",
        "K = S0  # ATM strike price\n",
        "r = 0.055  # Risk-free rate\n",
        "T = 3/12  # Time to maturity (3 months)"
      ]
    },
    {
      "cell_type": "code",
      "execution_count": 712,
      "metadata": {
        "colab": {
          "base_uri": "https://localhost:8080/"
        },
        "id": "0k3nw3yuvLMT",
        "outputId": "9f92d96c-feab-4c98-b62b-d0067ecac53c"
      },
      "outputs": [
        {
          "name": "stdout",
          "output_type": "stream",
          "text": [
            "American call price: 3.07\n",
            "American put price: 2.94\n"
          ]
        }
      ],
      "source": [
        "america_call_heston_030 = heston_american_option(S0,K,T,r,'call')\n",
        "america_put_heston_030 = heston_american_option(S0,K,T,r,'put')\n",
        "print(f\"American call price: {america_call_heston_030:.2f}\")\n",
        "print(f\"American put price: {america_put_heston_030:.2f}\")"
      ]
    },
    {
      "cell_type": "markdown",
      "metadata": {
        "id": "BXXObSuWuGfY"
      },
      "source": [
        "rho = -0.70"
      ]
    },
    {
      "cell_type": "markdown",
      "metadata": {
        "id": "gvYoIp6mtlfk"
      },
      "source": [
        "### Merton model"
      ]
    },
    {
      "cell_type": "code",
      "execution_count": 713,
      "metadata": {
        "id": "LAgZLubzufG_"
      },
      "outputs": [],
      "source": [
        "def merton_american_option(SM,K,T,r,option_type):\n",
        "  Ite = 10000  # Number of simulations (paths)\n",
        "  M = 100  # Number of steps\n",
        "  fitted_payoffs= lsmc_payoff(SM,K,T,r,M,option_type)\n",
        "  price = np.mean(fitted_payoffs)\n",
        "\n",
        "  return price"
      ]
    },
    {
      "cell_type": "markdown",
      "metadata": {
        "id": "T5RhkaSTMZLw"
      },
      "source": [
        "λ = 0.75"
      ]
    },
    {
      "cell_type": "code",
      "execution_count": 714,
      "metadata": {
        "colab": {
          "base_uri": "https://localhost:8080/"
        },
        "id": "0ftq-bEaDMBk",
        "outputId": "a997c055-da01-4cec-893c-35e2f0b68464"
      },
      "outputs": [
        {
          "name": "stdout",
          "output_type": "stream",
          "text": [
            "American call price: 9.45\n",
            "American put price: 7.78\n"
          ]
        }
      ],
      "source": [
        "america_call_merton_075 = merton_american_option(SM_lamb_075,K,T,r,'call')\n",
        "america_put_merton_075 = merton_american_option(SM_lamb_075,K,T,r,'put')\n",
        "print(f\"American call price: {america_call_merton_075:.2f}\")\n",
        "print(f\"American put price: {america_put_merton_075:.2f}\")"
      ]
    },
    {
      "cell_type": "code",
      "execution_count": 715,
      "metadata": {
        "id": "qckhtZUoMn0v"
      },
      "outputs": [],
      "source": [
        "assert math.isclose(america_call_merton_075+K*np.exp(-r*T),S0+america_put_merton_075,rel_tol=0.5)"
      ]
    },
    {
      "cell_type": "markdown",
      "metadata": {
        "id": "c-MHWA9mzMAR"
      },
      "source": [
        "## Question 14"
      ]
    },
    {
      "cell_type": "markdown",
      "metadata": {
        "id": "T19Gt4v03jyz"
      },
      "source": [
        "(UAI)up-and-in call"
      ]
    },
    {
      "cell_type": "code",
      "execution_count": 716,
      "metadata": {
        "id": "HKaeQoJ54N6Z"
      },
      "outputs": [],
      "source": [
        "def up_and_in_barrier_option(price_paths, K, B, r, T):\n",
        "  # Check if the barrier is breached for each path\n",
        "    barrier_breached = np.max(price_paths, axis=0) >= B\n",
        "\n",
        "    # Calculate terminal payoffs for both call and put\n",
        "    call_payoffs = np.maximum(price_paths[-1] - K, 0)\n",
        "    put_payoffs = np.maximum(K - price_paths[-1], 0)\n",
        "\n",
        "    # Apply barrier condition: payoff is zero if barrier is not breached\n",
        "    call_payoffs = call_payoffs * barrier_breached\n",
        "    put_payoffs = put_payoffs * barrier_breached\n",
        "\n",
        "    # Discount payoffs to present value\n",
        "    discount_factor = np.exp(-r * T)\n",
        "    call_price = np.mean(call_payoffs) * discount_factor\n",
        "    put_price = np.mean(put_payoffs) * discount_factor\n",
        "\n",
        "    return call_price, put_price"
      ]
    },
    {
      "cell_type": "code",
      "execution_count": 717,
      "metadata": {
        "id": "pCTLk8kC4Roy"
      },
      "outputs": [],
      "source": [
        "def heston_up_and_in_option(S0, K, B, T, r):\n",
        "\n",
        "    Ite = 10000\n",
        "    M = 100\n",
        "    price_paths = heston_price_paths(S0, K, r, T, Ite, M)\n",
        "\n",
        "    return up_and_in_barrier_option(price_paths, K, B, r, T)"
      ]
    },
    {
      "cell_type": "code",
      "execution_count": 718,
      "metadata": {
        "colab": {
          "base_uri": "https://localhost:8080/"
        },
        "id": "LDE0JeW04a5T",
        "outputId": "2e54231f-95c4-4550-c590-720fe0f308ca"
      },
      "outputs": [
        {
          "name": "stdout",
          "output_type": "stream",
          "text": [
            "European UAI call price: 0.08\n",
            "European UAI put price: 0.06\n"
          ]
        }
      ],
      "source": [
        "B = K = 95\n",
        "uai_heston_call, uai_heston_put = heston_up_and_in_option(S0,K,B,T,r)\n",
        "print(f\"European UAI call price: {uai_heston_call:.2f}\")\n",
        "print(f\"European UAI put price: {uai_heston_put:.2f}\")"
      ]
    },
    {
      "cell_type": "code",
      "execution_count": 719,
      "metadata": {
        "id": "W2cnugh86lFR"
      },
      "outputs": [],
      "source": [
        "assert math.isclose(uai_heston_call+K*np.exp(-r*T),S0+uai_heston_put,rel_tol=0.5)"
      ]
    },
    {
      "cell_type": "markdown",
      "metadata": {
        "id": "coYGw0QMsUnR"
      },
      "source": [
        "## Question 15"
      ]
    },
    {
      "cell_type": "markdown",
      "metadata": {
        "id": "CziajIUhb22H"
      },
      "source": [
        "European Down-and-In (Knock In Barrier) Option"
      ]
    },
    {
      "cell_type": "code",
      "execution_count": 720,
      "metadata": {
        "id": "iEpoNpKrrLhT"
      },
      "outputs": [],
      "source": [
        "def down_in_barrier(SM,K,T,r,sigma,mu,delta,lamb, barrier):\n",
        "    S_T = SM[-1]\n",
        "\n",
        "    barrier_hit = np.any(S_T <= barrier, axis=0)\n",
        "\n",
        "    # Calculate payoff (only valid if barrier is hit)\n",
        "    call_payoff = np.where(barrier_hit, np.maximum(S_T - K, 0), 0)\n",
        "    put_payoff =  np.where(barrier_hit, np.maximum(K - S_T, 0), 0)\n",
        "\n",
        "    # Calculate option price\n",
        "    call_price = np.exp(-r * T) * np.mean(call_payoff)\n",
        "    put_price = np.exp(-r * T) * np.mean(put_payoff)\n",
        "\n",
        "    return call_price, put_price"
      ]
    },
    {
      "cell_type": "code",
      "execution_count": 726,
      "metadata": {
        "id": "qq14ORYCrNAb"
      },
      "outputs": [],
      "source": [
        "mu = -0.5  # intensity mean\n",
        "delta = 0.22\n",
        "r = 0.055  # Risk-free rate\n",
        "sigma = 0.35  # Volatility\n",
        "T = 3/12  # Maturity/time\n",
        "S0 = 80\n",
        "lamb = 0.75"
      ]
    },
    {
      "cell_type": "code",
      "execution_count": 727,
      "metadata": {
        "colab": {
          "base_uri": "https://localhost:8080/"
        },
        "id": "D_XMNd1nrUVy",
        "outputId": "4f7bd15b-828e-4b5a-9e9b-7c0b9fb72e9e"
      },
      "outputs": [
        {
          "name": "stdout",
          "output_type": "stream",
          "text": [
            "European DAI Barrier call price: 18.46\n",
            "European DAI Barrier put price: 2.86\n"
          ]
        }
      ],
      "source": [
        "K = barrier = 65\n",
        "dai_call, dai_put = down_in_barrier(SM_lamb_075,K,T,r,sigma,mu,delta,lamb,barrier)\n",
        "print(f\"European DAI Barrier call price: {dai_call:.2f}\")\n",
        "print(f\"European DAI Barrier put price: {dai_put:.2f}\")"
      ]
    },
    {
      "cell_type": "code",
      "execution_count": 723,
      "metadata": {
        "id": "NnZvSotDrVAF"
      },
      "outputs": [],
      "source": [
        "assert math.isclose(dai_call+K*np.exp(-r*T),S0+dai_put,rel_tol=0.5)"
      ]
    }
  ],
  "metadata": {
    "colab": {
      "provenance": [],
      "toc_visible": true
    },
    "kernelspec": {
      "display_name": "Python 3",
      "name": "python3"
    },
    "language_info": {
      "name": "python"
    }
  },
  "nbformat": 4,
  "nbformat_minor": 0
}
